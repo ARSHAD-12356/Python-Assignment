{
 "cells": [
  {
   "cell_type": "markdown",
   "id": "d7f231af-3420-4c2a-a534-7fe8af4e74fb",
   "metadata": {},
   "source": [
    "### Q1. What is Abstraction in OOps? Explain with an example."
   ]
  },
  {
   "cell_type": "markdown",
   "id": "a1f31d7d-64f8-482b-9966-e273d7e0151f",
   "metadata": {},
   "source": [
    "### this method is used for to make a skleton class which can pass multiple method or variable without any detailing\n",
    "### this skleton class applied on another class that's why we can define all the method or variable as our requirment\n",
    "### * first we import abc than apply @abc.abstractmethod upside on each method or variable"
   ]
  },
  {
   "cell_type": "code",
   "execution_count": 13,
   "id": "7dda1e82-7441-4eea-8490-575ddb004a69",
   "metadata": {},
   "outputs": [],
   "source": [
    "#skleton class\n",
    "import abc\n",
    "\n",
    "class online_skill_educators:\n",
    "    \n",
    "    @abc.abstractmethod\n",
    "    def perc_of_student(self):\n",
    "        pass\n",
    "    \n",
    "    @abc.abstractmethod\n",
    "    def faculty(self):\n",
    "        pass\n",
    "    @abc.abstractmethod\n",
    "    def subjects(self):\n",
    "        pass"
   ]
  },
  {
   "cell_type": "code",
   "execution_count": 7,
   "id": "83922a95-7ba8-430a-b87b-ee49e2d8d424",
   "metadata": {},
   "outputs": [],
   "source": [
    "class pw(online_skill_educators):\n",
    "    \n",
    "    def perc_of_student(self):\n",
    "        return \"pw have 70% students all over in india\"\n",
    "    \n",
    "    def faculty(self):\n",
    "        return \"DSM, WEB_DEV, DSA, c , c++ , JAV\"\n",
    "    \n",
    "    def subjects(self):\n",
    "        return \"PW have all subjects of any stream\""
   ]
  },
  {
   "cell_type": "code",
   "execution_count": 8,
   "id": "ab5e291c-887b-4bee-b4a9-b1fc36d7f9de",
   "metadata": {},
   "outputs": [],
   "source": [
    "pw = pw()"
   ]
  },
  {
   "cell_type": "code",
   "execution_count": 5,
   "id": "7dfe5a08-eb06-4cba-9782-1e4661a417e5",
   "metadata": {},
   "outputs": [
    {
     "data": {
      "text/plain": [
       "'pw have 70% students all over in india'"
      ]
     },
     "execution_count": 5,
     "metadata": {},
     "output_type": "execute_result"
    }
   ],
   "source": [
    "pw.perc_of_student()"
   ]
  },
  {
   "cell_type": "code",
   "execution_count": 9,
   "id": "3362cc0b-2a58-40a2-aa8f-0c627de8b079",
   "metadata": {},
   "outputs": [
    {
     "data": {
      "text/plain": [
       "'DSM, WEB_DEV, DSA, c , c++ , JAV'"
      ]
     },
     "execution_count": 9,
     "metadata": {},
     "output_type": "execute_result"
    }
   ],
   "source": [
    "pw.faculty()"
   ]
  },
  {
   "cell_type": "code",
   "execution_count": 10,
   "id": "6e087456-b238-4d87-bf3e-3dcd00d0551e",
   "metadata": {},
   "outputs": [
    {
     "data": {
      "text/plain": [
       "'PW have all subjects of any stream'"
      ]
     },
     "execution_count": 10,
     "metadata": {},
     "output_type": "execute_result"
    }
   ],
   "source": [
    "pw.subjects()"
   ]
  },
  {
   "cell_type": "markdown",
   "id": "30cb58d4-c88e-46c6-9006-07fe402c7d07",
   "metadata": {},
   "source": [
    "### Q2. Differentiate between Abstraction and Encapsulation. Explain with an example."
   ]
  },
  {
   "cell_type": "markdown",
   "id": "c3d889aa-72f4-4f29-80f3-44984d23e029",
   "metadata": {},
   "source": [
    "### this method is used for to make a skleton class which can pass multiple method or variable without any detailing\n",
    "### this skleton class applied on another class that's why we can define all the method or variable as our requirment\n",
    "### * first we import abc than apply @abc.abstractmethod upside on each method or variable\n",
    "###    But\n",
    "### if you don't want to user can see what's the variable in a object than use encapsulation\n",
    "### if you hide your variable in object form user than use encapsulation\n",
    "### For Encapsulating than always use __before varible name in class\n",
    "\n",
    "### this is the basic diffrence between them"
   ]
  },
  {
   "cell_type": "code",
   "execution_count": 11,
   "id": "52cae3f5-b73b-4229-b28f-7fc21bc5e46e",
   "metadata": {},
   "outputs": [],
   "source": [
    "## Abstraction"
   ]
  },
  {
   "cell_type": "code",
   "execution_count": 14,
   "id": "5f301c16-215e-4d3c-9429-da212c59c61b",
   "metadata": {},
   "outputs": [],
   "source": [
    "import abc\n",
    "class lappy_brand:\n",
    "    \n",
    "    @abc.abstractmethod\n",
    "    def hp(self):\n",
    "        pass\n",
    "    \n",
    "    @abc.abstractmethod\n",
    "    def dell(self):\n",
    "        pass\n"
   ]
  },
  {
   "cell_type": "code",
   "execution_count": 15,
   "id": "7fd502c3-7ee7-470b-bd8f-aebd5fa49614",
   "metadata": {},
   "outputs": [],
   "source": [
    "class laptops(lappy_brand):\n",
    "    \n",
    "    def hp(self):\n",
    "        return \"i prefer hp laptop than dell or another\"\n",
    "    \n",
    "    def dell(self):\n",
    "        return \"dell is also a good brand than other except hp\""
   ]
  },
  {
   "cell_type": "code",
   "execution_count": 16,
   "id": "efe5f65e-de9d-41d2-9380-e806e5228472",
   "metadata": {},
   "outputs": [],
   "source": [
    "laptop= laptops()"
   ]
  },
  {
   "cell_type": "code",
   "execution_count": 17,
   "id": "6715c4cf-fd19-4269-88d3-c119e46d66fd",
   "metadata": {},
   "outputs": [
    {
     "data": {
      "text/plain": [
       "'i prefer hp laptop than dell or another'"
      ]
     },
     "execution_count": 17,
     "metadata": {},
     "output_type": "execute_result"
    }
   ],
   "source": [
    "laptop.hp()"
   ]
  },
  {
   "cell_type": "code",
   "execution_count": 18,
   "id": "fe6f1103-e551-4741-a4a4-b139dca18a92",
   "metadata": {},
   "outputs": [
    {
     "data": {
      "text/plain": [
       "'dell is also a good brand than other except hp'"
      ]
     },
     "execution_count": 18,
     "metadata": {},
     "output_type": "execute_result"
    }
   ],
   "source": [
    "laptop.dell()"
   ]
  },
  {
   "cell_type": "code",
   "execution_count": 19,
   "id": "a507ca40-08b5-411d-a223-208232662c14",
   "metadata": {},
   "outputs": [],
   "source": [
    "# Encapsulation"
   ]
  },
  {
   "cell_type": "code",
   "execution_count": 18,
   "id": "390f3234-135f-419f-a3cd-fa0797cbeaec",
   "metadata": {},
   "outputs": [],
   "source": [
    "class Account:\n",
    "    \n",
    "    def __init__(self, balance):\n",
    "        self.__balance= balance\n",
    "        \n",
    "    def deposit(self, amount):\n",
    "        self.__balance= self.__balance + amount\n",
    "        \n",
    "    def withdraw(self,amount):\n",
    "        if self.__balance >= amount:\n",
    "            self.__balance = self.__balance - amount\n",
    "            return True\n",
    "        else:\n",
    "            return False\n",
    "   "
   ]
  },
  {
   "cell_type": "code",
   "execution_count": 12,
   "id": "f8c04b20-9af1-4e6e-a5ac-ce8cf4a9aa3c",
   "metadata": {},
   "outputs": [],
   "source": [
    "bank_account = Account(1000)"
   ]
  },
  {
   "cell_type": "code",
   "execution_count": 14,
   "id": "2e14efb1-37a7-4d2f-bc69-7c468a191968",
   "metadata": {},
   "outputs": [],
   "source": [
    "bank_account.deposit(5000)"
   ]
  },
  {
   "cell_type": "code",
   "execution_count": 16,
   "id": "c203ecb3-3880-4c4d-9799-e72a0c782109",
   "metadata": {},
   "outputs": [
    {
     "data": {
      "text/plain": [
       "True"
      ]
     },
     "execution_count": 16,
     "metadata": {},
     "output_type": "execute_result"
    }
   ],
   "source": [
    "bank_account.withdraw(2000)"
   ]
  },
  {
   "cell_type": "code",
   "execution_count": 20,
   "id": "ea06e38d-c6f9-4d7a-9e13-6f2de65c6390",
   "metadata": {},
   "outputs": [],
   "source": [
    "bank_account.deposit(3000)"
   ]
  },
  {
   "cell_type": "code",
   "execution_count": 23,
   "id": "93a9600c-a35b-4fdc-8825-95ff3e33ccc0",
   "metadata": {},
   "outputs": [
    {
     "ename": "AttributeError",
     "evalue": "'Account' object has no attribute '__balance'",
     "output_type": "error",
     "traceback": [
      "\u001b[0;31m---------------------------------------------------------------------------\u001b[0m",
      "\u001b[0;31mAttributeError\u001b[0m                            Traceback (most recent call last)",
      "Cell \u001b[0;32mIn[23], line 2\u001b[0m\n\u001b[1;32m      1\u001b[0m \u001b[38;5;66;03m# There is no one know what is my balance becouse this program is encapsulated\u001b[39;00m\n\u001b[0;32m----> 2\u001b[0m \u001b[43mbank_account\u001b[49m\u001b[38;5;241;43m.\u001b[39;49m\u001b[43m__balance\u001b[49m()\n",
      "\u001b[0;31mAttributeError\u001b[0m: 'Account' object has no attribute '__balance'"
     ]
    }
   ],
   "source": [
    "# There is no one know what is my balance becouse this program is encapsulated\n",
    "bank_account.__balance()"
   ]
  },
  {
   "cell_type": "markdown",
   "id": "efcb8324-0621-42ad-9fad-e81cbac86c1f",
   "metadata": {},
   "source": [
    "### Q3. What is abc module in python? Why is it used?"
   ]
  },
  {
   "cell_type": "markdown",
   "id": "fc86f2d0-5db5-4c02-b2da-74f2bbaea02b",
   "metadata": {},
   "source": [
    "The 'abc' module in Python library provides the infrastructure for defining custom abstract base classes. 'abc' works by marking methods of the base class as abstract. This is done by @absttractmethod decorator.\\\n",
    "This module is used for making a skleton class and pass the multiple method or function and utilised this on another class where we define all the method or funciton as our requirment."
   ]
  },
  {
   "cell_type": "markdown",
   "id": "18aba7ca-ead9-4ffc-ab5b-0daffde96a55",
   "metadata": {},
   "source": [
    "### Q4. How can we achieve data abstraction?"
   ]
  },
  {
   "cell_type": "markdown",
   "id": "01993770-0a71-4b45-9ef3-2396119836c6",
   "metadata": {},
   "source": [
    "Data Abstraction in Python can be achieved through creating abstract classes and inheriting them later. Before discussing what abstract classes are, let us have a brief introduction of inheritance.\n",
    "\n",
    "Inheritance in OOP is a way through which one class inherits the attributes and methods of another class. The class whose properties and methods are inherited is known as the Parent class. And the class that inherits the properties from the parent class is the Child class/subclass."
   ]
  },
  {
   "cell_type": "markdown",
   "id": "788e15a6-32b4-4b8c-80fb-ccb3ad1c5a20",
   "metadata": {},
   "source": [
    "### Q5. Can we create an instance of an abstract class? Explain your answer."
   ]
  },
  {
   "cell_type": "markdown",
   "id": "21c16b28-6cd7-4246-98f8-eb535e35e61a",
   "metadata": {},
   "source": [
    "Abstract classes are not complete, as they may have some methods that are not defined. So we cannot create an instance or object of an abstract class in Python.\n",
    "Abstract classes cannot be instantiated, but they can be subclassed. When an abstract class is subclassed, the subclass usually provides implementations for all of the abstract methods in its parent class. However, if it does not, then the subclass must also be declared abstract"
   ]
  },
  {
   "cell_type": "code",
   "execution_count": null,
   "id": "9630d228-ccfe-41f1-befe-e1dacadfeaaf",
   "metadata": {},
   "outputs": [],
   "source": []
  }
 ],
 "metadata": {
  "kernelspec": {
   "display_name": "Python 3 (ipykernel)",
   "language": "python",
   "name": "python3"
  },
  "language_info": {
   "codemirror_mode": {
    "name": "ipython",
    "version": 3
   },
   "file_extension": ".py",
   "mimetype": "text/x-python",
   "name": "python",
   "nbconvert_exporter": "python",
   "pygments_lexer": "ipython3",
   "version": "3.10.8"
  }
 },
 "nbformat": 4,
 "nbformat_minor": 5
}
