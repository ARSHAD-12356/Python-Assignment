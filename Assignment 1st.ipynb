{
 "cells": [
  {
   "cell_type": "code",
   "execution_count": 8,
   "id": "66bdbabc-49a1-435b-8430-997d88bf8fda",
   "metadata": {},
   "outputs": [],
   "source": [
    "# Q1.> Create one variable containing following type of data:"
   ]
  },
  {
   "cell_type": "code",
   "execution_count": 2,
   "id": "ba8045eb-11c5-41b4-a7f1-9553e667e5a2",
   "metadata": {},
   "outputs": [],
   "source": [
    "# (1) String"
   ]
  },
  {
   "cell_type": "code",
   "execution_count": 4,
   "id": "c3b725c8-4e80-4c09-a6c6-209634e33cf5",
   "metadata": {},
   "outputs": [],
   "source": [
    "a = \"This is string between single code or double code\""
   ]
  },
  {
   "cell_type": "code",
   "execution_count": 6,
   "id": "ea1a4d9b-d650-4e30-ad9b-415321b9bfca",
   "metadata": {},
   "outputs": [
    {
     "data": {
      "text/plain": [
       "'This is string between single code or double code'"
      ]
     },
     "execution_count": 6,
     "metadata": {},
     "output_type": "execute_result"
    }
   ],
   "source": [
    "a"
   ]
  },
  {
   "cell_type": "code",
   "execution_count": 7,
   "id": "e3ab4cd3-82cd-490f-94c9-cbf81c3ec417",
   "metadata": {},
   "outputs": [],
   "source": [
    "# (2) List"
   ]
  },
  {
   "cell_type": "code",
   "execution_count": 9,
   "id": "2113388f-62e3-4625-99a7-f0d0cd85c0dc",
   "metadata": {},
   "outputs": [],
   "source": [
    "b = [1,2,3,4,5,6,\"Arsh\",\"PW-Skills\",45.35,5+7j]"
   ]
  },
  {
   "cell_type": "code",
   "execution_count": 11,
   "id": "f73475e7-7ea4-4e09-aadf-760a17f6963d",
   "metadata": {},
   "outputs": [
    {
     "data": {
      "text/plain": [
       "[1, 2, 3, 4, 5, 6, 'Arsh', 'PW-Skills', 45.35, (5+7j)]"
      ]
     },
     "execution_count": 11,
     "metadata": {},
     "output_type": "execute_result"
    }
   ],
   "source": [
    "b"
   ]
  },
  {
   "cell_type": "code",
   "execution_count": 12,
   "id": "cf7c157f-55d5-4474-a297-2b93232e7997",
   "metadata": {},
   "outputs": [],
   "source": [
    "# (3) float"
   ]
  },
  {
   "cell_type": "code",
   "execution_count": 14,
   "id": "86aaf44f-c7bf-4029-a340-ee6e1a664545",
   "metadata": {},
   "outputs": [],
   "source": [
    "c = 45.85"
   ]
  },
  {
   "cell_type": "code",
   "execution_count": 16,
   "id": "45a4b2ee-55f0-4f60-beda-2466daa6f3fc",
   "metadata": {},
   "outputs": [
    {
     "data": {
      "text/plain": [
       "45.85"
      ]
     },
     "execution_count": 16,
     "metadata": {},
     "output_type": "execute_result"
    }
   ],
   "source": [
    "c"
   ]
  },
  {
   "cell_type": "code",
   "execution_count": 17,
   "id": "e643f486-464b-434a-905b-e02ed55b25df",
   "metadata": {},
   "outputs": [],
   "source": [
    "# (4) Tuple"
   ]
  },
  {
   "cell_type": "code",
   "execution_count": 5,
   "id": "cd2efa82-10ac-49da-8ea0-97e4c57fb5ea",
   "metadata": {},
   "outputs": [],
   "source": [
    "thistuple = (\"python\",\"C\",\"C++\",\"Java\")"
   ]
  },
  {
   "cell_type": "code",
   "execution_count": 9,
   "id": "deaa9f28-25a2-45e4-abf6-64fcf1435940",
   "metadata": {},
   "outputs": [
    {
     "name": "stdout",
     "output_type": "stream",
     "text": [
      "('python', 'C', 'C++', 'Java')\n"
     ]
    }
   ],
   "source": [
    "print(thistuple)"
   ]
  },
  {
   "cell_type": "code",
   "execution_count": 10,
   "id": "c2d20e1d-81b8-4dc1-8f50-07e15706ac29",
   "metadata": {},
   "outputs": [],
   "source": [
    "# Q2.> Given are some following variables containing data:"
   ]
  },
  {
   "cell_type": "code",
   "execution_count": 11,
   "id": "30533609-70d8-4562-84ca-20cacb4c67fd",
   "metadata": {},
   "outputs": [],
   "source": [
    "# (1) Vari1=''"
   ]
  },
  {
   "cell_type": "code",
   "execution_count": 13,
   "id": "4c7a2cc0-1677-4c94-8279-19500e1ed119",
   "metadata": {},
   "outputs": [],
   "source": [
    "var1=''"
   ]
  },
  {
   "cell_type": "code",
   "execution_count": 15,
   "id": "2def8a55-dc0e-46ad-be8b-03c3c0b21da3",
   "metadata": {},
   "outputs": [
    {
     "data": {
      "text/plain": [
       "str"
      ]
     },
     "execution_count": 15,
     "metadata": {},
     "output_type": "execute_result"
    }
   ],
   "source": [
    "type(var1)"
   ]
  },
  {
   "cell_type": "code",
   "execution_count": 18,
   "id": "59335f1a-394d-4bdb-917e-ec47a0b30523",
   "metadata": {},
   "outputs": [],
   "source": [
    "var2= '[ DS , ML , Python]'"
   ]
  },
  {
   "cell_type": "code",
   "execution_count": 20,
   "id": "2a48865f-51fd-4b1e-9c7f-3ec46ffecbc0",
   "metadata": {},
   "outputs": [
    {
     "data": {
      "text/plain": [
       "str"
      ]
     },
     "execution_count": 20,
     "metadata": {},
     "output_type": "execute_result"
    }
   ],
   "source": [
    "type(var2)"
   ]
  },
  {
   "cell_type": "code",
   "execution_count": 22,
   "id": "78482143-a465-4ea1-8c94-46f12e93d3d5",
   "metadata": {},
   "outputs": [],
   "source": [
    "var3=['DS','ML','PYTHON']"
   ]
  },
  {
   "cell_type": "code",
   "execution_count": 24,
   "id": "55833fcc-3bf0-4e8f-bff9-ecb9d011256b",
   "metadata": {},
   "outputs": [
    {
     "data": {
      "text/plain": [
       "list"
      ]
     },
     "execution_count": 24,
     "metadata": {},
     "output_type": "execute_result"
    }
   ],
   "source": [
    "type(var3)"
   ]
  },
  {
   "cell_type": "code",
   "execution_count": 25,
   "id": "14b5d5ff-ba76-4030-88ee-9ba65a6e6b64",
   "metadata": {},
   "outputs": [],
   "source": [
    "var4=1"
   ]
  },
  {
   "cell_type": "code",
   "execution_count": 27,
   "id": "b28b1662-b986-4f05-a801-e16e2adf5bf7",
   "metadata": {},
   "outputs": [
    {
     "data": {
      "text/plain": [
       "int"
      ]
     },
     "execution_count": 27,
     "metadata": {},
     "output_type": "execute_result"
    }
   ],
   "source": [
    "type(var4)"
   ]
  },
  {
   "cell_type": "code",
   "execution_count": 28,
   "id": "4c93b59c-a7b7-4207-9916-dc10e8cb66c3",
   "metadata": {},
   "outputs": [],
   "source": [
    "#Q3.> Explain the use of the following operators using an example:"
   ]
  },
  {
   "cell_type": "code",
   "execution_count": 29,
   "id": "db1e076e-1aea-4a4c-8071-f164a150073a",
   "metadata": {},
   "outputs": [],
   "source": [
    "# /"
   ]
  },
  {
   "cell_type": "code",
   "execution_count": null,
   "id": "ed9c38ed-9144-42cb-bb55-9d94c612c4df",
   "metadata": {},
   "outputs": [],
   "source": [
    "# / This is division operator"
   ]
  },
  {
   "cell_type": "code",
   "execution_count": 32,
   "id": "119537f6-5738-422d-87a8-39ee56212648",
   "metadata": {},
   "outputs": [
    {
     "data": {
      "text/plain": [
       "2.0"
      ]
     },
     "execution_count": 32,
     "metadata": {},
     "output_type": "execute_result"
    }
   ],
   "source": [
    "10/5"
   ]
  },
  {
   "cell_type": "code",
   "execution_count": 33,
   "id": "d3a78cba-aa07-43db-ad26-b864041b8229",
   "metadata": {},
   "outputs": [],
   "source": [
    "# %"
   ]
  },
  {
   "cell_type": "code",
   "execution_count": 38,
   "id": "d15bdff5-8219-4a83-9a24-4771b443b251",
   "metadata": {},
   "outputs": [],
   "source": [
    "# % This is Modulus Operator"
   ]
  },
  {
   "cell_type": "code",
   "execution_count": 36,
   "id": "002892e0-c4cd-45d6-b2c4-e887f71bfba0",
   "metadata": {},
   "outputs": [],
   "source": [
    "x = 5\n",
    "y = 2"
   ]
  },
  {
   "cell_type": "code",
   "execution_count": 39,
   "id": "a99aad04-ead7-4652-adc2-6a57800c1fef",
   "metadata": {},
   "outputs": [
    {
     "name": "stdout",
     "output_type": "stream",
     "text": [
      "1\n"
     ]
    }
   ],
   "source": [
    "print(x%y)"
   ]
  },
  {
   "cell_type": "code",
   "execution_count": 40,
   "id": "68bde566-1d12-452b-9fc2-ac0f68ffd80b",
   "metadata": {},
   "outputs": [],
   "source": [
    "# //"
   ]
  },
  {
   "cell_type": "code",
   "execution_count": 42,
   "id": "d3d3cefc-d6de-4607-a362-74aa7261d480",
   "metadata": {},
   "outputs": [],
   "source": [
    "# // This is floor division"
   ]
  },
  {
   "cell_type": "code",
   "execution_count": 45,
   "id": "3acbcb68-04cd-4c12-9194-71d8fbafed00",
   "metadata": {},
   "outputs": [],
   "source": [
    " f = 12\n",
    "g=2"
   ]
  },
  {
   "cell_type": "code",
   "execution_count": 47,
   "id": "e67f0841-d1d1-43cc-af05-8b80d39b428e",
   "metadata": {},
   "outputs": [
    {
     "name": "stdout",
     "output_type": "stream",
     "text": [
      "6\n"
     ]
    }
   ],
   "source": [
    "print(f//g)"
   ]
  },
  {
   "cell_type": "code",
   "execution_count": 48,
   "id": "3db832db-95ea-4369-ab00-e53be04ed975",
   "metadata": {},
   "outputs": [],
   "source": [
    "# **"
   ]
  },
  {
   "cell_type": "code",
   "execution_count": 49,
   "id": "c2755826-501c-4fcc-b580-eaea58fbe65e",
   "metadata": {},
   "outputs": [],
   "source": [
    "# ** This is exponent operator"
   ]
  },
  {
   "cell_type": "code",
   "execution_count": 51,
   "id": "3f7d8b2e-7093-4d45-b9dc-fc5c66a62c8c",
   "metadata": {},
   "outputs": [
    {
     "data": {
      "text/plain": [
       "8"
      ]
     },
     "execution_count": 51,
     "metadata": {},
     "output_type": "execute_result"
    }
   ],
   "source": [
    "2**3"
   ]
  },
  {
   "cell_type": "code",
   "execution_count": 53,
   "id": "f965d551-7544-43f7-8f5d-64e220a33a31",
   "metadata": {},
   "outputs": [],
   "source": [
    "#Q4. Create a list of length 10 of your choice containing multiple types of data. Using for loop print the\n",
    "#Elements and its data type"
   ]
  },
  {
   "cell_type": "code",
   "execution_count": 59,
   "id": "69130620-27b5-4a75-a900-d5ba9f7008e7",
   "metadata": {},
   "outputs": [],
   "source": [
    "l =[1,2,3,4,5,6,\"Arshad\",45.8,True,5+7j]"
   ]
  },
  {
   "cell_type": "code",
   "execution_count": 60,
   "id": "b76dfd5f-d762-41c6-a153-803b84baa4b1",
   "metadata": {},
   "outputs": [
    {
     "name": "stdout",
     "output_type": "stream",
     "text": [
      "1\n",
      "<class 'int'>\n",
      "2\n",
      "<class 'int'>\n",
      "3\n",
      "<class 'int'>\n",
      "4\n",
      "<class 'int'>\n",
      "5\n",
      "<class 'int'>\n",
      "6\n",
      "<class 'int'>\n",
      "Arshad\n",
      "<class 'str'>\n",
      "45.8\n",
      "<class 'float'>\n",
      "True\n",
      "<class 'bool'>\n",
      "(5+7j)\n",
      "<class 'complex'>\n"
     ]
    }
   ],
   "source": [
    "for l in l :\n",
    "    print(l)\n",
    "    print(type(l))"
   ]
  },
  {
   "cell_type": "code",
   "execution_count": 1,
   "id": "a75031dc-1b23-43e5-91d8-b4a1370f20da",
   "metadata": {},
   "outputs": [],
   "source": [
    "#Q5. Using a while loop, verify if the number A is purely divisible by number B and if so then how many\n",
    "#times it can be divisible."
   ]
  },
  {
   "cell_type": "code",
   "execution_count": 2,
   "id": "55d7ea30-cca5-49c9-9853-ba3b0f4fbbbf",
   "metadata": {},
   "outputs": [],
   "source": [
    "a = 32\n",
    "b = 4\n",
    "i = 0\n",
    "while a%b==0:\n",
    "    a=a/b\n",
    "    i=i+1"
   ]
  },
  {
   "cell_type": "code",
   "execution_count": 4,
   "id": "77f43f60-02fb-4ead-8cb5-d084749708aa",
   "metadata": {},
   "outputs": [
    {
     "name": "stdout",
     "output_type": "stream",
     "text": [
      "2\n"
     ]
    }
   ],
   "source": [
    "print(i)"
   ]
  },
  {
   "cell_type": "code",
   "execution_count": 10,
   "id": "fe0b47a9-73d1-4f26-bc69-9acb7eebafee",
   "metadata": {},
   "outputs": [],
   "source": [
    "#Q6. Create a list containing 25 int type data. Using for loop and if-else condition print if the element is\n",
    "#divisible by 3 or not."
   ]
  },
  {
   "cell_type": "code",
   "execution_count": 15,
   "id": "66b2bb51-0cdf-468a-9338-24a8eefe3865",
   "metadata": {},
   "outputs": [],
   "source": [
    "l=[1,2,3,4,5,6,7,8,9,10,11,12,13,14,15,16,17,18,19,20,21,22,23,24,25]"
   ]
  },
  {
   "cell_type": "code",
   "execution_count": 17,
   "id": "010373d8-be04-41b0-a702-27e63b6b9676",
   "metadata": {},
   "outputs": [
    {
     "name": "stdout",
     "output_type": "stream",
     "text": [
      "1 is not divisible by 3\n",
      "2 is not divisible by 3\n",
      "3 is divisible by 3\n",
      "4 is not divisible by 3\n",
      "5 is not divisible by 3\n",
      "6 is divisible by 3\n",
      "7 is not divisible by 3\n",
      "8 is not divisible by 3\n",
      "9 is divisible by 3\n",
      "10 is not divisible by 3\n",
      "11 is not divisible by 3\n",
      "12 is divisible by 3\n",
      "13 is not divisible by 3\n",
      "14 is not divisible by 3\n",
      "15 is divisible by 3\n",
      "16 is not divisible by 3\n",
      "17 is not divisible by 3\n",
      "18 is divisible by 3\n",
      "19 is not divisible by 3\n",
      "20 is not divisible by 3\n",
      "21 is divisible by 3\n",
      "22 is not divisible by 3\n",
      "23 is not divisible by 3\n",
      "24 is divisible by 3\n",
      "25 is not divisible by 3\n"
     ]
    }
   ],
   "source": [
    "for i in l :\n",
    "    if i%3==0:\n",
    "        print(i,\"is divisible by 3\")\n",
    "    else :\n",
    "        print(i,\"is not divisible by 3\")"
   ]
  },
  {
   "cell_type": "code",
   "execution_count": 18,
   "id": "7d88ce00-d08a-43b3-ad05-8087ccada844",
   "metadata": {},
   "outputs": [],
   "source": [
    "#Q7. What do you understand about mutable and immutable data types? Give examples for both showing\n",
    "#this property."
   ]
  },
  {
   "cell_type": "code",
   "execution_count": 19,
   "id": "cda5cba7-37ce-40f8-b780-fbc70b21136f",
   "metadata": {},
   "outputs": [],
   "source": [
    "#(i) Mutable:--"
   ]
  },
  {
   "cell_type": "code",
   "execution_count": 20,
   "id": "26e17e5e-ea59-43d9-9075-b9b46f6dbe44",
   "metadata": {},
   "outputs": [],
   "source": [
    "#List index can change because it has mutability power and this is known as mutability."
   ]
  },
  {
   "cell_type": "code",
   "execution_count": 21,
   "id": "f5fd0e56-8dc6-402f-a1b3-bf38eeb85cbf",
   "metadata": {},
   "outputs": [],
   "source": [
    "#(ii) Immutable:--"
   ]
  },
  {
   "cell_type": "code",
   "execution_count": 22,
   "id": "256ec712-28b7-48d4-afdf-98f865317c58",
   "metadata": {},
   "outputs": [],
   "source": [
    "#String index can't change becouz it doesn't have mutability than String Index have immutability than it is known as immutable"
   ]
  },
  {
   "cell_type": "code",
   "execution_count": 23,
   "id": "111b4551-efa8-4a6e-aea4-55095e559c7d",
   "metadata": {},
   "outputs": [],
   "source": [
    "#Ex. of Mutable object"
   ]
  },
  {
   "cell_type": "code",
   "execution_count": 24,
   "id": "123acbe9-bfbc-44ca-8677-c9b8b0d0c620",
   "metadata": {},
   "outputs": [],
   "source": [
    "a=[1,2,3,4,5,6,\"Arsh\",\"Pwskills\",True,5+7j]"
   ]
  },
  {
   "cell_type": "code",
   "execution_count": 26,
   "id": "8c01bce0-c412-4700-927f-1715925cd0c5",
   "metadata": {},
   "outputs": [
    {
     "data": {
      "text/plain": [
       "[1, 2, 3, 4, 5, 6, 'Arsh', 'Pwskills', True, (5+7j)]"
      ]
     },
     "execution_count": 26,
     "metadata": {},
     "output_type": "execute_result"
    }
   ],
   "source": [
    "a"
   ]
  },
  {
   "cell_type": "code",
   "execution_count": 28,
   "id": "0a9ab5e3-b7fd-4de3-a607-0e122e861192",
   "metadata": {},
   "outputs": [
    {
     "data": {
      "text/plain": [
       "1"
      ]
     },
     "execution_count": 28,
     "metadata": {},
     "output_type": "execute_result"
    }
   ],
   "source": [
    "a[0]"
   ]
  },
  {
   "cell_type": "code",
   "execution_count": 30,
   "id": "ec3e79a4-5bdf-428d-8a9a-2b0a0ecdd53a",
   "metadata": {},
   "outputs": [
    {
     "data": {
      "text/plain": [
       "2"
      ]
     },
     "execution_count": 30,
     "metadata": {},
     "output_type": "execute_result"
    }
   ],
   "source": [
    "a[1]"
   ]
  },
  {
   "cell_type": "code",
   "execution_count": 32,
   "id": "c7e55b6e-1cc4-45b5-8da9-4adb558f6eab",
   "metadata": {},
   "outputs": [
    {
     "data": {
      "text/plain": [
       "'Arsh'"
      ]
     },
     "execution_count": 32,
     "metadata": {},
     "output_type": "execute_result"
    }
   ],
   "source": [
    "a[6]"
   ]
  },
  {
   "cell_type": "code",
   "execution_count": 34,
   "id": "437cbf07-facd-418d-b114-8450f71ab458",
   "metadata": {},
   "outputs": [],
   "source": [
    "a[6]=\"Arshad\""
   ]
  },
  {
   "cell_type": "code",
   "execution_count": 36,
   "id": "0922fff3-3676-4d88-932d-7fcc7ad8c794",
   "metadata": {},
   "outputs": [
    {
     "data": {
      "text/plain": [
       "[1, 2, 3, 4, 5, 6, 'Arshad', 'Pwskills', True, (5+7j)]"
      ]
     },
     "execution_count": 36,
     "metadata": {},
     "output_type": "execute_result"
    }
   ],
   "source": [
    "a"
   ]
  },
  {
   "cell_type": "code",
   "execution_count": 37,
   "id": "edb0ecd2-73ad-4859-bd51-43325b43d49a",
   "metadata": {},
   "outputs": [],
   "source": [
    "#Ex. of Immutable Object"
   ]
  },
  {
   "cell_type": "code",
   "execution_count": 38,
   "id": "44c43f44-b190-4754-9355-5d4dab07a6d1",
   "metadata": {},
   "outputs": [],
   "source": [
    "b=\"Arshad\""
   ]
  },
  {
   "cell_type": "code",
   "execution_count": 40,
   "id": "1c87156d-5378-4a73-a43e-90b206cb61e0",
   "metadata": {},
   "outputs": [
    {
     "data": {
      "text/plain": [
       "'A'"
      ]
     },
     "execution_count": 40,
     "metadata": {},
     "output_type": "execute_result"
    }
   ],
   "source": [
    "b[0]"
   ]
  },
  {
   "cell_type": "code",
   "execution_count": 41,
   "id": "06b8ff63-d234-4910-98c0-ed6784a1c29f",
   "metadata": {},
   "outputs": [
    {
     "ename": "TypeError",
     "evalue": "'str' object does not support item assignment",
     "output_type": "error",
     "traceback": [
      "\u001b[0;31m---------------------------------------------------------------------------\u001b[0m",
      "\u001b[0;31mTypeError\u001b[0m                                 Traceback (most recent call last)",
      "Cell \u001b[0;32mIn[41], line 1\u001b[0m\n\u001b[0;32m----> 1\u001b[0m \u001b[43mb\u001b[49m\u001b[43m[\u001b[49m\u001b[38;5;241;43m0\u001b[39;49m\u001b[43m]\u001b[49m\u001b[38;5;241m=\u001b[39m\u001b[38;5;124m'\u001b[39m\u001b[38;5;124mM\u001b[39m\u001b[38;5;124m'\u001b[39m\n",
      "\u001b[0;31mTypeError\u001b[0m: 'str' object does not support item assignment"
     ]
    }
   ],
   "source": [
    "b[0]='M'"
   ]
  }
 ],
 "metadata": {
  "kernelspec": {
   "display_name": "Python 3 (ipykernel)",
   "language": "python",
   "name": "python3"
  },
  "language_info": {
   "codemirror_mode": {
    "name": "ipython",
    "version": 3
   },
   "file_extension": ".py",
   "mimetype": "text/x-python",
   "name": "python",
   "nbconvert_exporter": "python",
   "pygments_lexer": "ipython3",
   "version": "3.10.8"
  }
 },
 "nbformat": 4,
 "nbformat_minor": 5
}
