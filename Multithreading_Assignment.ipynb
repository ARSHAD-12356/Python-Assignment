{
 "cells": [
  {
   "cell_type": "markdown",
   "id": "9dd2a039-fef7-4fa7-8638-f022a3ef1683",
   "metadata": {},
   "source": [
    "Q1> What is multithreading in Python? why is it used? Name the module used to handle threads in python?"
   ]
  },
  {
   "cell_type": "markdown",
   "id": "32a54278-f353-4c41-9819-7458d8f33229",
   "metadata": {},
   "source": [
    "Multithreading is defined as the ability of a processor to execute multiple threads concurrently. In a simple, single-core CPU, it is achieved using frequent switching between threads.\n",
    "\n",
    "Python multithreading enables efficient utilization of the resources as the threads share the data space and memory\n",
    "\n",
    "In Python, the threading module provides a very simple and intuitive API for spawning multiple threads in a program."
   ]
  },
  {
   "cell_type": "markdown",
   "id": "96984212-d543-4365-8cb8-6eb0ecc7b195",
   "metadata": {},
   "source": [
    "Q2>. why threading module used? write the use of the following functions:\n",
    "   1.activeCount()\n",
    "   2.currentThread()\n",
    "   3.enumerate()"
   ]
  },
  {
   "cell_type": "markdown",
   "id": "da8c217f-33cb-4b57-a8a8-4c605a2f0bd8",
   "metadata": {},
   "source": [
    "The threading module exposes all the methods of the thread module and provides some additional method"
   ]
  },
  {
   "cell_type": "markdown",
   "id": "def1cdd1-06c5-4093-b845-8e66ee351a22",
   "metadata": {},
   "source": [
    "1>threading.activeCount() − Returns the number of thread objects that are active.\n",
    "\n",
    "2>threading.currentThread() − Returns the number of thread objects in the caller's thread control.\n",
    "\n",
    "3>threading.enumerate() − Returns a list of all thread objects that are currently active."
   ]
  },
  {
   "cell_type": "markdown",
   "id": "6d66c9a0-61e2-495e-b25f-a0d7cb6420a8",
   "metadata": {},
   "source": [
    "Q3>Explain the following functions:\n",
    "\n",
    "  1>run()\n",
    "  \n",
    "  2>start()\n",
    " \n",
    "  3>join()\n",
    " \n",
    "  4>isAlive()"
   ]
  },
  {
   "cell_type": "markdown",
   "id": "cfa68955-0c7c-4df4-86d8-3f45527175fc",
   "metadata": {},
   "source": [
    "1>run()  − The run() method is the entry point for a thread.\n",
    "\n",
    "2>start()  − The start() method starts a thread by calling the run method.\n",
    "\n",
    "3>join()  − The join() waits for threads to terminate.\n",
    "\n",
    "4>isAlive()  − The isAlive() method checks whether a thread is still executing."
   ]
  },
  {
   "cell_type": "markdown",
   "id": "e10e1694-d5ff-43cd-9089-22a7843374d7",
   "metadata": {},
   "source": [
    "Q4> write a python program to create two threads. Thread one must print the list of squares and thread two must print the list of cubes"
   ]
  },
  {
   "cell_type": "code",
   "execution_count": 1,
   "id": "8f320a2e-9220-4394-bd82-f3fce404a6ae",
   "metadata": {},
   "outputs": [],
   "source": [
    "import threading"
   ]
  },
  {
   "cell_type": "code",
   "execution_count": 2,
   "id": "c58284a9-0234-46be-8053-8dc61ee566ce",
   "metadata": {},
   "outputs": [
    {
     "name": "stdout",
     "output_type": "stream",
     "text": [
      "List of Squares: [1, 4, 9, 16, 25]\n",
      "List of Cubes: [1, 8, 27, 64, 125]\n"
     ]
    }
   ],
   "source": [
    "def calculate_squares(numbers):\n",
    "    squares = [num ** 2 for num in numbers]\n",
    "    print(\"List of Squares:\", squares)\n",
    "\n",
    "def calculate_cubes(numbers):\n",
    "    cubes = [num ** 3 for num in numbers]\n",
    "    print(\"List of Cubes:\", cubes)\n",
    "\n",
    "def main():\n",
    "    numbers = [1, 2, 3, 4, 5]\n",
    "\n",
    "    thread1 = threading.Thread(target=calculate_squares, args=(numbers,))\n",
    "    thread2 = threading.Thread(target=calculate_cubes, args=(numbers,))\n",
    "\n",
    "    # Start both threads\n",
    "    thread1.start()\n",
    "    thread2.start()\n",
    "\n",
    "    # Wait for both threads to finish\n",
    "    thread1.join()\n",
    "    thread2.join()\n",
    "\n",
    "if __name__ == \"__main__\":\n",
    "    main()"
   ]
  },
  {
   "cell_type": "markdown",
   "id": "1a8591b7-d5e3-45e3-820a-6ea892f4fd63",
   "metadata": {},
   "source": [
    "\n",
    "Q5. State advantages and disadvantages of multithreading"
   ]
  },
  {
   "cell_type": "markdown",
   "id": "abf5b484-9af4-4898-a20d-84855cee57a6",
   "metadata": {},
   "source": [
    "In conclusion, multithreading in Java training can offer significant advantages in terms of performance, responsiveness, and resource utilization. this is advantages \n",
    "\n",
    "However, it also introduces complexity and potential issues related to synchronization and concurrency. this is disadvantages."
   ]
  },
  {
   "cell_type": "markdown",
   "id": "b18ca06f-1dd4-4834-96ff-17b54582952d",
   "metadata": {},
   "source": [
    "\n",
    "6. Explain deadlocks and race conditions"
   ]
  }
 ],
 "metadata": {
  "kernelspec": {
   "display_name": "Python 3 (ipykernel)",
   "language": "python",
   "name": "python3"
  },
  "language_info": {
   "codemirror_mode": {
    "name": "ipython",
    "version": 3
   },
   "file_extension": ".py",
   "mimetype": "text/x-python",
   "name": "python",
   "nbconvert_exporter": "python",
   "pygments_lexer": "ipython3",
   "version": "3.10.8"
  }
 },
 "nbformat": 4,
 "nbformat_minor": 5
}
