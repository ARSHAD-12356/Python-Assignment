{
 "cells": [
  {
   "cell_type": "markdown",
   "id": "ae7e11d1-a33e-4e20-912c-618adebd2194",
   "metadata": {},
   "source": [
    "# Assignment-1 Panda Basic"
   ]
  },
  {
   "cell_type": "markdown",
   "id": "765f847a-beb7-4985-8de5-f17f74586f0e",
   "metadata": {},
   "source": [
    "# Q1. Create a Pandas Series that contains the following data: 4, 8, 15, 16, 23, and 42. Then, print the series."
   ]
  },
  {
   "cell_type": "code",
   "execution_count": 1,
   "id": "4461a13b-e43c-4574-a237-8f0f1651421f",
   "metadata": {},
   "outputs": [],
   "source": [
    "import pandas as pd"
   ]
  },
  {
   "cell_type": "code",
   "execution_count": 3,
   "id": "bd2b84b9-d7df-4394-b230-bab664ae2ea8",
   "metadata": {},
   "outputs": [],
   "source": [
    "s_data = pd.Series([4,8,15,16,23,42])"
   ]
  },
  {
   "cell_type": "code",
   "execution_count": 4,
   "id": "a04dc389-586f-463b-a6c7-3fa7c26098e4",
   "metadata": {},
   "outputs": [
    {
     "name": "stdout",
     "output_type": "stream",
     "text": [
      "0     4\n",
      "1     8\n",
      "2    15\n",
      "3    16\n",
      "4    23\n",
      "5    42\n",
      "dtype: int64\n"
     ]
    }
   ],
   "source": [
    "print(s_data)"
   ]
  },
  {
   "cell_type": "code",
   "execution_count": 5,
   "id": "3d438965-b7a3-4ce2-861b-3c6a3c260ce3",
   "metadata": {},
   "outputs": [
    {
     "data": {
      "text/plain": [
       "pandas.core.series.Series"
      ]
     },
     "execution_count": 5,
     "metadata": {},
     "output_type": "execute_result"
    }
   ],
   "source": [
    "type(s_data)"
   ]
  },
  {
   "cell_type": "markdown",
   "id": "a27c0d99-1b38-477c-a0ba-35c762cd724b",
   "metadata": {},
   "source": [
    "# Q2. Create a variable of list type containing 10 elements in it, and apply pandas.Series function on the variable print it."
   ]
  },
  {
   "cell_type": "code",
   "execution_count": 6,
   "id": "411d5130-1576-4f93-bd56-94f79fde3f1b",
   "metadata": {},
   "outputs": [],
   "source": [
    "list_ = [1,2,3,4,5,6,7,8,9,10]"
   ]
  },
  {
   "cell_type": "code",
   "execution_count": 8,
   "id": "efae7a13-bc99-4fbf-ab69-850900f323f8",
   "metadata": {},
   "outputs": [],
   "source": [
    "s_list = pd.Series(list_)"
   ]
  },
  {
   "cell_type": "code",
   "execution_count": 9,
   "id": "75a23cd0-bc8c-49fc-98d7-b8483159ac41",
   "metadata": {},
   "outputs": [
    {
     "name": "stdout",
     "output_type": "stream",
     "text": [
      "0     1\n",
      "1     2\n",
      "2     3\n",
      "3     4\n",
      "4     5\n",
      "5     6\n",
      "6     7\n",
      "7     8\n",
      "8     9\n",
      "9    10\n",
      "dtype: int64\n"
     ]
    }
   ],
   "source": [
    "print(s_list)"
   ]
  },
  {
   "cell_type": "markdown",
   "id": "934d441a-19ad-4f5b-987e-775739b4cf5e",
   "metadata": {},
   "source": [
    "# Q3. Create a Pandas DataFrame that contains the following data:\n",
    "# Name: Alice, Bob, Claire\n",
    "# Age : 25 , 30 , 27\n",
    "# Gender : Female , Male , Female\n",
    "Then, print the dataframe"
   ]
  },
  {
   "cell_type": "code",
   "execution_count": 17,
   "id": "3fadbeda-1769-404b-ab18-b4b73f694277",
   "metadata": {},
   "outputs": [],
   "source": [
    "# using dicitionary:--\n",
    "d = {\n",
    "    \"Name\" : ['Alice', 'Bob' , 'Claire'],\n",
    "    \"Age\": [25,30,27],\n",
    "    \"Gender\" : [\"Female\", \"Male\", \"Female\"]\n",
    "}"
   ]
  },
  {
   "cell_type": "code",
   "execution_count": 18,
   "id": "205ba088-2039-4c8e-b189-92ff88d15438",
   "metadata": {},
   "outputs": [
    {
     "data": {
      "text/plain": [
       "{'Name': ['Alice', 'Bob', 'Claire'],\n",
       " 'Age': [25, 30, 27],\n",
       " 'Gender': ['Female', 'Male', 'Female']}"
      ]
     },
     "execution_count": 18,
     "metadata": {},
     "output_type": "execute_result"
    }
   ],
   "source": [
    "d"
   ]
  },
  {
   "cell_type": "code",
   "execution_count": 20,
   "id": "458fec9c-144e-4994-ada5-b3f47bf177b9",
   "metadata": {},
   "outputs": [],
   "source": [
    "df = pd.DataFrame(d)"
   ]
  },
  {
   "cell_type": "code",
   "execution_count": 21,
   "id": "3e9464ea-b97d-4c45-8b8c-a8e4cea43461",
   "metadata": {},
   "outputs": [
    {
     "data": {
      "text/html": [
       "<div>\n",
       "<style scoped>\n",
       "    .dataframe tbody tr th:only-of-type {\n",
       "        vertical-align: middle;\n",
       "    }\n",
       "\n",
       "    .dataframe tbody tr th {\n",
       "        vertical-align: top;\n",
       "    }\n",
       "\n",
       "    .dataframe thead th {\n",
       "        text-align: right;\n",
       "    }\n",
       "</style>\n",
       "<table border=\"1\" class=\"dataframe\">\n",
       "  <thead>\n",
       "    <tr style=\"text-align: right;\">\n",
       "      <th></th>\n",
       "      <th>Name</th>\n",
       "      <th>Age</th>\n",
       "      <th>Gender</th>\n",
       "    </tr>\n",
       "  </thead>\n",
       "  <tbody>\n",
       "    <tr>\n",
       "      <th>0</th>\n",
       "      <td>Alice</td>\n",
       "      <td>25</td>\n",
       "      <td>Female</td>\n",
       "    </tr>\n",
       "    <tr>\n",
       "      <th>1</th>\n",
       "      <td>Bob</td>\n",
       "      <td>30</td>\n",
       "      <td>Male</td>\n",
       "    </tr>\n",
       "    <tr>\n",
       "      <th>2</th>\n",
       "      <td>Claire</td>\n",
       "      <td>27</td>\n",
       "      <td>Female</td>\n",
       "    </tr>\n",
       "  </tbody>\n",
       "</table>\n",
       "</div>"
      ],
      "text/plain": [
       "     Name  Age  Gender\n",
       "0   Alice   25  Female\n",
       "1     Bob   30    Male\n",
       "2  Claire   27  Female"
      ]
     },
     "execution_count": 21,
     "metadata": {},
     "output_type": "execute_result"
    }
   ],
   "source": [
    "df"
   ]
  },
  {
   "cell_type": "code",
   "execution_count": 22,
   "id": "f9fd5ae1-c9fe-4236-b5b9-1f695d01f8c5",
   "metadata": {},
   "outputs": [
    {
     "data": {
      "text/plain": [
       "pandas.core.frame.DataFrame"
      ]
     },
     "execution_count": 22,
     "metadata": {},
     "output_type": "execute_result"
    }
   ],
   "source": [
    "type(df)"
   ]
  },
  {
   "cell_type": "markdown",
   "id": "5094a560-680b-42bd-a2ef-c046e38b671f",
   "metadata": {},
   "source": [
    "# Q4. What is ‘DataFrame’ in pandas and how is it different from pandas.series? Explain with an example."
   ]
  },
  {
   "cell_type": "markdown",
   "id": "6d0572e6-0b4f-4f2e-8aa3-b0d9666b546b",
   "metadata": {},
   "source": [
    "📘 What is a DataFrame in Pandas?\n",
    "In Pandas, a DataFrame is a two-dimensional tabular data structure with rows and columns, similar to a table in a database or an Excel spreadsheet.\n",
    "\n",
    "It can hold multiple columns, each of different data types (int, float, string, etc.).\n",
    "\n",
    "Think of it like a dictionary of pandas.Series, all sharing the same row index.\n",
    "\n",
    "📘 What is a Series in Pandas?\n",
    "A pandas.Series is a one-dimensional array-like structure that can hold any data type.\n",
    "\n",
    "It has only one column of data and an associated index."
   ]
  },
  {
   "cell_type": "code",
   "execution_count": 23,
   "id": "c8a33bdb-98d4-4a67-9a10-27e3648ac4c5",
   "metadata": {},
   "outputs": [],
   "source": [
    "# creating a series\n",
    "Series = pd.Series([10,20,30], name = \"Marks\")"
   ]
  },
  {
   "cell_type": "code",
   "execution_count": 24,
   "id": "4b331bb2-be36-46ac-add5-193dc8b711ca",
   "metadata": {},
   "outputs": [
    {
     "name": "stdout",
     "output_type": "stream",
     "text": [
      "Series:\n",
      "0    10\n",
      "1    20\n",
      "2    30\n",
      "Name: Marks, dtype: int64\n",
      "Type:  <class 'pandas.core.series.Series'>\n"
     ]
    }
   ],
   "source": [
    "print(\"Series:\")\n",
    "print(Series)\n",
    "print(\"Type: \", type(Series))"
   ]
  },
  {
   "cell_type": "code",
   "execution_count": 25,
   "id": "dcae309c-fd46-460b-a826-d4e28b9bef3e",
   "metadata": {},
   "outputs": [],
   "source": [
    "# creating a DataFrame\n",
    "data = {\n",
    "    'Name' : ['Alice', 'Bob', 'Charlie'],\n",
    "    'Marks' : [85,90,95]\n",
    "}"
   ]
  },
  {
   "cell_type": "code",
   "execution_count": 26,
   "id": "6006a4c6-8b6d-4f50-8e8d-cbcb47494b5c",
   "metadata": {},
   "outputs": [
    {
     "name": "stdout",
     "output_type": "stream",
     "text": [
      "DataFrame: \n",
      "      Name  Marks\n",
      "0    Alice     85\n",
      "1      Bob     90\n",
      "2  Charlie     95\n",
      "Type:  <class 'pandas.core.frame.DataFrame'>\n"
     ]
    }
   ],
   "source": [
    "df = pd.DataFrame(data)\n",
    "print(\"DataFrame: \")\n",
    "print(df)\n",
    "print(\"Type: \", type(df))"
   ]
  },
  {
   "cell_type": "markdown",
   "id": "ba5d464c-cedb-4c6b-8522-e9361488c0db",
   "metadata": {},
   "source": [
    "# Q5. What are some common functions you can use to manipulate data in a Pandas DataFrame? Can you give an example of when you might use one of these functions?"
   ]
  },
  {
   "cell_type": "code",
   "execution_count": 30,
   "id": "51a4021a-7f8c-4488-9b93-31ecef94cb87",
   "metadata": {},
   "outputs": [
    {
     "data": {
      "text/html": [
       "<div>\n",
       "<style scoped>\n",
       "    .dataframe tbody tr th:only-of-type {\n",
       "        vertical-align: middle;\n",
       "    }\n",
       "\n",
       "    .dataframe tbody tr th {\n",
       "        vertical-align: top;\n",
       "    }\n",
       "\n",
       "    .dataframe thead th {\n",
       "        text-align: right;\n",
       "    }\n",
       "</style>\n",
       "<table border=\"1\" class=\"dataframe\">\n",
       "  <thead>\n",
       "    <tr style=\"text-align: right;\">\n",
       "      <th></th>\n",
       "      <th>Name</th>\n",
       "      <th>Marks</th>\n",
       "    </tr>\n",
       "  </thead>\n",
       "  <tbody>\n",
       "    <tr>\n",
       "      <th>0</th>\n",
       "      <td>Alice</td>\n",
       "      <td>85</td>\n",
       "    </tr>\n",
       "    <tr>\n",
       "      <th>1</th>\n",
       "      <td>Bob</td>\n",
       "      <td>90</td>\n",
       "    </tr>\n",
       "  </tbody>\n",
       "</table>\n",
       "</div>"
      ],
      "text/plain": [
       "    Name  Marks\n",
       "0  Alice     85\n",
       "1    Bob     90"
      ]
     },
     "execution_count": 30,
     "metadata": {},
     "output_type": "execute_result"
    }
   ],
   "source": [
    "# i > head() -> it extract top 5 data from the top by default\n",
    "df.head(2)"
   ]
  },
  {
   "cell_type": "code",
   "execution_count": 31,
   "id": "49d1ce66-f6e0-4df7-acfb-6d1d7d38faf0",
   "metadata": {},
   "outputs": [
    {
     "data": {
      "text/html": [
       "<div>\n",
       "<style scoped>\n",
       "    .dataframe tbody tr th:only-of-type {\n",
       "        vertical-align: middle;\n",
       "    }\n",
       "\n",
       "    .dataframe tbody tr th {\n",
       "        vertical-align: top;\n",
       "    }\n",
       "\n",
       "    .dataframe thead th {\n",
       "        text-align: right;\n",
       "    }\n",
       "</style>\n",
       "<table border=\"1\" class=\"dataframe\">\n",
       "  <thead>\n",
       "    <tr style=\"text-align: right;\">\n",
       "      <th></th>\n",
       "      <th>Name</th>\n",
       "      <th>Marks</th>\n",
       "    </tr>\n",
       "  </thead>\n",
       "  <tbody>\n",
       "    <tr>\n",
       "      <th>1</th>\n",
       "      <td>Bob</td>\n",
       "      <td>90</td>\n",
       "    </tr>\n",
       "    <tr>\n",
       "      <th>2</th>\n",
       "      <td>Charlie</td>\n",
       "      <td>95</td>\n",
       "    </tr>\n",
       "  </tbody>\n",
       "</table>\n",
       "</div>"
      ],
      "text/plain": [
       "      Name  Marks\n",
       "1      Bob     90\n",
       "2  Charlie     95"
      ]
     },
     "execution_count": 31,
     "metadata": {},
     "output_type": "execute_result"
    }
   ],
   "source": [
    "# ii> tail() -> it extract top 5 bottom data by defalut\n",
    "df.tail(2)"
   ]
  },
  {
   "cell_type": "code",
   "execution_count": 32,
   "id": "072a05e3-bbae-45ad-bf0e-5a7a20f63780",
   "metadata": {},
   "outputs": [
    {
     "data": {
      "text/plain": [
       "0      Alice\n",
       "1        Bob\n",
       "2    Charlie\n",
       "Name: Name, dtype: object"
      ]
     },
     "execution_count": 32,
     "metadata": {},
     "output_type": "execute_result"
    }
   ],
   "source": [
    "df['Name']"
   ]
  },
  {
   "cell_type": "code",
   "execution_count": 33,
   "id": "f597bc2b-a19d-4a34-83fa-c2f798af4e28",
   "metadata": {},
   "outputs": [
    {
     "data": {
      "text/plain": [
       "Index(['Name', 'Marks'], dtype='object')"
      ]
     },
     "execution_count": 33,
     "metadata": {},
     "output_type": "execute_result"
    }
   ],
   "source": [
    "df.columns"
   ]
  },
  {
   "cell_type": "code",
   "execution_count": 34,
   "id": "5a4a6554-4e20-4d42-af79-8c26b5802520",
   "metadata": {},
   "outputs": [
    {
     "data": {
      "text/html": [
       "<div>\n",
       "<style scoped>\n",
       "    .dataframe tbody tr th:only-of-type {\n",
       "        vertical-align: middle;\n",
       "    }\n",
       "\n",
       "    .dataframe tbody tr th {\n",
       "        vertical-align: top;\n",
       "    }\n",
       "\n",
       "    .dataframe thead th {\n",
       "        text-align: right;\n",
       "    }\n",
       "</style>\n",
       "<table border=\"1\" class=\"dataframe\">\n",
       "  <thead>\n",
       "    <tr style=\"text-align: right;\">\n",
       "      <th></th>\n",
       "      <th>Name</th>\n",
       "      <th>Marks</th>\n",
       "    </tr>\n",
       "  </thead>\n",
       "  <tbody>\n",
       "    <tr>\n",
       "      <th>0</th>\n",
       "      <td>Alice</td>\n",
       "      <td>85</td>\n",
       "    </tr>\n",
       "    <tr>\n",
       "      <th>1</th>\n",
       "      <td>Bob</td>\n",
       "      <td>90</td>\n",
       "    </tr>\n",
       "    <tr>\n",
       "      <th>2</th>\n",
       "      <td>Charlie</td>\n",
       "      <td>95</td>\n",
       "    </tr>\n",
       "  </tbody>\n",
       "</table>\n",
       "</div>"
      ],
      "text/plain": [
       "      Name  Marks\n",
       "0    Alice     85\n",
       "1      Bob     90\n",
       "2  Charlie     95"
      ]
     },
     "execution_count": 34,
     "metadata": {},
     "output_type": "execute_result"
    }
   ],
   "source": [
    "df[[\"Name\", \"Marks\"]]"
   ]
  },
  {
   "cell_type": "markdown",
   "id": "1c47c238-5360-4d01-85a4-d64ac9d96cdc",
   "metadata": {},
   "source": [
    "# Q6. Which of the following is mutable in nature Series, DataFrame, Panel?"
   ]
  },
  {
   "cell_type": "markdown",
   "id": "dcddc259-1863-4714-9d67-f0f8bbb547e5",
   "metadata": {},
   "source": [
    "All three — Series, DataFrame, and Panel — are mutable in nature.\n",
    "\n",
    "But here's a more detailed explanation:"
   ]
  },
  {
   "cell_type": "markdown",
   "id": "d9cebf2d-8fb9-445e-9e1c-a3daabd2de70",
   "metadata": {},
   "source": [
    "# 1> Series - ✅ Mutable\n",
    "A Series is one-dimensional and allows modification of values, index, etc."
   ]
  },
  {
   "cell_type": "code",
   "execution_count": 35,
   "id": "aa1baa92-2082-4554-8257-b8490a142a87",
   "metadata": {},
   "outputs": [
    {
     "name": "stdout",
     "output_type": "stream",
     "text": [
      "0    10\n",
      "1     2\n",
      "2     3\n",
      "dtype: int64\n"
     ]
    }
   ],
   "source": [
    "s = pd.Series([1,2,3])\n",
    "s[0]=10\n",
    "print(s)"
   ]
  },
  {
   "cell_type": "markdown",
   "id": "1a4dc02f-a4fb-48b5-9ad0-0d76963703e6",
   "metadata": {},
   "source": [
    "# 2> DataFrame - ✅ Mutable\n",
    "A DataFrame is two-dimensional and is fully mutable — you can modify values, add/remove columns or rows."
   ]
  },
  {
   "cell_type": "code",
   "execution_count": 37,
   "id": "4313d6f4-691c-4379-be99-c7796fd15f39",
   "metadata": {},
   "outputs": [
    {
     "name": "stdout",
     "output_type": "stream",
     "text": [
      "     A  B\n",
      "0  100  3\n",
      "1    2  4\n"
     ]
    }
   ],
   "source": [
    "df = pd.DataFrame({'A' : [1,2], 'B': [3,4]})\n",
    "df.loc[0, 'A'] = 100\n",
    "print(df)"
   ]
  },
  {
   "cell_type": "markdown",
   "id": "1b5e9606-738c-4d9e-b811-289681bb0281",
   "metadata": {},
   "source": [
    "# 3> Panel - ✅ Mutable but ❌ Deprecated\n",
    "Panel was used for 3D data (like a 3D spreadsheet).\n",
    "\n",
    "It is mutable, but it has been deprecated since Pandas 1.0.0 (January 2020).\n",
    "\n",
    "Use MultiIndex DataFrames or xarray instead for 3D data."
   ]
  },
  {
   "cell_type": "markdown",
   "id": "4fc8e3c9-e766-45ae-8ac8-095e77d4b8bb",
   "metadata": {},
   "source": [
    "✅ All three — Series, DataFrame, and Panel — are mutable in nature,\n",
    "but Panel is deprecated and should be avoided in new projects."
   ]
  },
  {
   "cell_type": "markdown",
   "id": "47ce5db8-f2ce-4345-a6d5-fa441a647339",
   "metadata": {},
   "source": [
    "# Q7. Create a DataFrame using multiple Series. Explain with an example."
   ]
  },
  {
   "cell_type": "code",
   "execution_count": 38,
   "id": "fbc9559d-e918-4696-a221-f70199815703",
   "metadata": {},
   "outputs": [],
   "source": [
    "# Create multiple Series\n",
    "names = pd.Series(['Alice','Bob','Charlie'])\n",
    "marks = pd.Series([85,90,95])\n",
    "subjects = pd.Series(['Math','Science','English'])"
   ]
  },
  {
   "cell_type": "code",
   "execution_count": 39,
   "id": "00dd8bc5-ca59-493c-8adf-ccb478f83d7f",
   "metadata": {},
   "outputs": [
    {
     "name": "stdout",
     "output_type": "stream",
     "text": [
      "      Name  Marks  Subject\n",
      "0    Alice     85     Math\n",
      "1      Bob     90  Science\n",
      "2  Charlie     95  English\n"
     ]
    }
   ],
   "source": [
    "# combine series into a DataFrame\n",
    "df = pd.DataFrame({\n",
    "    'Name': names,\n",
    "    'Marks': marks,\n",
    "    'Subject': subjects\n",
    "})\n",
    "print(df)"
   ]
  },
  {
   "cell_type": "code",
   "execution_count": null,
   "id": "afe45220-d607-4976-b0d2-e29dc036140c",
   "metadata": {},
   "outputs": [],
   "source": []
  }
 ],
 "metadata": {
  "kernelspec": {
   "display_name": "Python 3 (ipykernel)",
   "language": "python",
   "name": "python3"
  },
  "language_info": {
   "codemirror_mode": {
    "name": "ipython",
    "version": 3
   },
   "file_extension": ".py",
   "mimetype": "text/x-python",
   "name": "python",
   "nbconvert_exporter": "python",
   "pygments_lexer": "ipython3",
   "version": "3.10.6"
  }
 },
 "nbformat": 4,
 "nbformat_minor": 5
}
