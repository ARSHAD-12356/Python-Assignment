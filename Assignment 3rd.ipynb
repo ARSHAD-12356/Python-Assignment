{
 "cells": [
  {
   "cell_type": "markdown",
   "id": "9844cc97-6b3c-44a0-a057-4f6cfd1ce824",
   "metadata": {},
   "source": [
    "### ASSIGNMENT OF W3-> FUNCTION "
   ]
  },
  {
   "cell_type": "code",
   "execution_count": 1,
   "id": "c6d4c0f3-28e2-4350-bd85-64e0b7f4bcc2",
   "metadata": {},
   "outputs": [],
   "source": [
    "# Q1. Which keyword is used to create a function? Create a function to return a list of odd numbers in the range of 1 to 25."
   ]
  },
  {
   "cell_type": "code",
   "execution_count": 9,
   "id": "023b4263-bb9b-4110-9ef5-93a45e622dfb",
   "metadata": {},
   "outputs": [
    {
     "data": {
      "text/plain": [
       "[1, 3, 5, 7, 9, 11, 13, 15, 17, 19, 21, 23, 25]"
      ]
     },
     "execution_count": 9,
     "metadata": {},
     "output_type": "execute_result"
    }
   ],
   "source": [
    "# Ans1>\n",
    "   # Def keyword is used to create a function\n",
    "l=[1,2,3,4,5,6,7,8,9,10,11,12,13,14,15,16,17,18,19,20,21,22,23,24,25]\n",
    "list(filter(lambda x : x%2!=0, l))"
   ]
  },
  {
   "cell_type": "code",
   "execution_count": 10,
   "id": "dd7a692f-dc00-43cb-b3e8-aeda7bfd918c",
   "metadata": {},
   "outputs": [],
   "source": [
    "# Q2. Why *args and **kwargs is used in some functions? Create a function each for *args and **kwargs to demonstrate their use"
   ]
  },
  {
   "cell_type": "code",
   "execution_count": 15,
   "id": "c4ed0434-ab46-4d02-8429-7dfb1023f9a4",
   "metadata": {},
   "outputs": [],
   "source": [
    "# Ans2>\n",
    "# single steric args(*args) is used for multiple arguments in a function and this outcomes in a tuple\n",
    "# double steric kwargs(**kwargs) is used for make a dictionary arguments {} in a function and this outcomes in a dictionary"
   ]
  },
  {
   "cell_type": "code",
   "execution_count": 14,
   "id": "c4241806-9a3a-41b1-9e06-029638bf3784",
   "metadata": {},
   "outputs": [
    {
     "data": {
      "text/plain": [
       "(1, 2, 3, 4)"
      ]
     },
     "execution_count": 14,
     "metadata": {},
     "output_type": "execute_result"
    }
   ],
   "source": [
    "#Ans 2>\n",
    "def Arsh(*args):\n",
    "    return args\n",
    "Arsh(1,2,3,4)"
   ]
  },
  {
   "cell_type": "code",
   "execution_count": 16,
   "id": "a273271c-80dc-4960-850b-0dc45ebbcc6c",
   "metadata": {},
   "outputs": [
    {
     "data": {
      "text/plain": [
       "{'a': 'Arsh', 's': 'sudh', 'l': [1, 2, 3, 4], 'c': (5+7j)}"
      ]
     },
     "execution_count": 16,
     "metadata": {},
     "output_type": "execute_result"
    }
   ],
   "source": [
    "#Ans2>\n",
    "def sudh(**kwargs):\n",
    "    return kwargs\n",
    "sudh(a=\"Arsh\", s=\"sudh\", l=[1,2,3,4], c=5+7j)"
   ]
  },
  {
   "cell_type": "code",
   "execution_count": 17,
   "id": "d2142ba1-86b3-4271-b669-d8593e0a2172",
   "metadata": {},
   "outputs": [],
   "source": [
    "# Q3.  What is an iterator in python? Name the method used to initialise the iterator object and the method\n",
    "# used for iteration. Use these methods to print the first five elements of the given list [2, 4, 6, 8, 10, 12, 14,\n",
    "# 16, 18, 20]."
   ]
  },
  {
   "cell_type": "code",
   "execution_count": 19,
   "id": "565c920a-1407-41eb-a68b-8d0f90405fc0",
   "metadata": {},
   "outputs": [],
   "source": [
    "# Ans3>\n",
    "#In Python, an iterator is an object that allows you to iterate over collections of data, such as lists, tuples, dictionaries, and sets.\n",
    "# Generator function is used to intialise the iterator and we have to first use iter function to convert in iteraion object."
   ]
  },
  {
   "cell_type": "code",
   "execution_count": 20,
   "id": "82200a5a-0cb1-441c-acbf-446b214e8936",
   "metadata": {},
   "outputs": [],
   "source": [
    " l=[2, 4, 6, 8, 10, 12, 14,16, 18, 20]"
   ]
  },
  {
   "cell_type": "code",
   "execution_count": 21,
   "id": "f1ee47a9-8657-4cc6-9f2f-36bf4a0ab5f0",
   "metadata": {},
   "outputs": [],
   "source": [
    "l1= iter(l)"
   ]
  },
  {
   "cell_type": "code",
   "execution_count": 22,
   "id": "732202bf-a1d9-4fcc-9528-4c2c33d2579f",
   "metadata": {},
   "outputs": [
    {
     "data": {
      "text/plain": [
       "list_iterator"
      ]
     },
     "execution_count": 22,
     "metadata": {},
     "output_type": "execute_result"
    }
   ],
   "source": [
    "type(l1)"
   ]
  },
  {
   "cell_type": "code",
   "execution_count": 23,
   "id": "f8061a4d-05e0-4e94-8139-cb74f986ac70",
   "metadata": {},
   "outputs": [
    {
     "data": {
      "text/plain": [
       "2"
      ]
     },
     "execution_count": 23,
     "metadata": {},
     "output_type": "execute_result"
    }
   ],
   "source": [
    "next(l1)"
   ]
  },
  {
   "cell_type": "code",
   "execution_count": 24,
   "id": "408dbef6-a1b5-4dc0-9b8c-aba6613b5dc8",
   "metadata": {},
   "outputs": [
    {
     "data": {
      "text/plain": [
       "4"
      ]
     },
     "execution_count": 24,
     "metadata": {},
     "output_type": "execute_result"
    }
   ],
   "source": [
    "next(l1)"
   ]
  },
  {
   "cell_type": "code",
   "execution_count": 25,
   "id": "99708276-469c-4b0b-97ad-137e38be943b",
   "metadata": {},
   "outputs": [
    {
     "data": {
      "text/plain": [
       "6"
      ]
     },
     "execution_count": 25,
     "metadata": {},
     "output_type": "execute_result"
    }
   ],
   "source": [
    "next(l1)"
   ]
  },
  {
   "cell_type": "code",
   "execution_count": 26,
   "id": "31edd92d-fae9-4913-a0d3-fd0e992ec31a",
   "metadata": {},
   "outputs": [
    {
     "data": {
      "text/plain": [
       "8"
      ]
     },
     "execution_count": 26,
     "metadata": {},
     "output_type": "execute_result"
    }
   ],
   "source": [
    "next(l1)"
   ]
  },
  {
   "cell_type": "code",
   "execution_count": 27,
   "id": "45048a37-be02-4977-8c38-bdfb8acdd1e2",
   "metadata": {},
   "outputs": [
    {
     "data": {
      "text/plain": [
       "10"
      ]
     },
     "execution_count": 27,
     "metadata": {},
     "output_type": "execute_result"
    }
   ],
   "source": [
    "next(l1)"
   ]
  },
  {
   "cell_type": "code",
   "execution_count": 28,
   "id": "bdce5e8a-d774-4b48-918c-5c272a8fc1e7",
   "metadata": {},
   "outputs": [],
   "source": [
    "# Q4.  What is a generator function in python? Why yield keyword is used? Give an example of a generator function."
   ]
  },
  {
   "cell_type": "code",
   "execution_count": 29,
   "id": "c32e3741-eb2a-4da1-9998-220a65118be4",
   "metadata": {},
   "outputs": [],
   "source": [
    "# Ans4>\n",
    "# In Python, a generator is a function that returns an iterator that produces a sequence of values when iterated over. Generators are useful when we want to produce a large sequence of values, but we don't want to store all of them in memory at once.\n",
    "# The yield keyword in Python controls the flow of a generator function."
   ]
  },
  {
   "cell_type": "code",
   "execution_count": 39,
   "id": "2bd0d0c1-7abb-4354-ac38-859171a96f98",
   "metadata": {},
   "outputs": [],
   "source": [
    "def Arsh():\n",
    "    a,b = 1,2\n",
    "    while True:\n",
    "        yield a\n",
    "        a,b= b , a+b"
   ]
  },
  {
   "cell_type": "code",
   "execution_count": 40,
   "id": "02065d7e-7d48-4f33-8bcb-e1251eef5fda",
   "metadata": {},
   "outputs": [],
   "source": [
    "fib=Arsh()"
   ]
  },
  {
   "cell_type": "code",
   "execution_count": 41,
   "id": "93a47bfe-2d04-41ce-88a2-52e2017643c0",
   "metadata": {},
   "outputs": [
    {
     "data": {
      "text/plain": [
       "generator"
      ]
     },
     "execution_count": 41,
     "metadata": {},
     "output_type": "execute_result"
    }
   ],
   "source": [
    "type(fib)"
   ]
  },
  {
   "cell_type": "code",
   "execution_count": 42,
   "id": "b63fad12-265d-448a-b059-81e61a403240",
   "metadata": {},
   "outputs": [
    {
     "name": "stdout",
     "output_type": "stream",
     "text": [
      "1\n",
      "2\n",
      "3\n",
      "5\n",
      "8\n",
      "13\n",
      "21\n",
      "34\n",
      "55\n",
      "89\n"
     ]
    }
   ],
   "source": [
    "for i in range(10):\n",
    "    print(next(fib))"
   ]
  },
  {
   "cell_type": "code",
   "execution_count": 2,
   "id": "91e651ef-2d07-46da-ac82-f366293565ba",
   "metadata": {},
   "outputs": [],
   "source": [
    "# Q5. Create a generator function for prime numbers less than 1000. Use the next() method to print the first 20 prime numbers."
   ]
  },
  {
   "cell_type": "code",
   "execution_count": 4,
   "id": "47ab0a2f-5f2c-4355-a0a8-40f62a548f62",
   "metadata": {},
   "outputs": [
    {
     "name": "stdout",
     "output_type": "stream",
     "text": [
      "2\n",
      "3\n",
      "5\n",
      "7\n",
      "11\n",
      "13\n",
      "17\n",
      "19\n",
      "23\n",
      "29\n",
      "31\n",
      "37\n",
      "41\n",
      "43\n",
      "47\n",
      "53\n",
      "59\n",
      "61\n",
      "67\n",
      "71\n"
     ]
    }
   ],
   "source": [
    "def generate_primes():\n",
    "    primes=[]\n",
    "    num= 2\n",
    "    while num < 1000:\n",
    "        is_prime = True\n",
    "        for prime in primes:\n",
    "            if num % prime == 0:\n",
    "                is_prime= False\n",
    "                break\n",
    "        if is_prime:\n",
    "            primes.append(num)\n",
    "            yield num\n",
    "        num +=1\n",
    "#Create the generator\n",
    "prime_generator=generate_primes()\n",
    "\n",
    "#print the first 20 prime numbers\n",
    "for _ in range(20):\n",
    "    prime=next(prime_generator)\n",
    "    print(prime)"
   ]
  },
  {
   "cell_type": "code",
   "execution_count": 7,
   "id": "782a5393-278e-4f57-9725-afecfdfe1282",
   "metadata": {},
   "outputs": [],
   "source": [
    "# Q6. Write a python program to print the first 10 Fibonacci numbers using a while loop."
   ]
  },
  {
   "cell_type": "code",
   "execution_count": 8,
   "id": "1b324781-bcf7-45e7-bc34-7932d595a63c",
   "metadata": {},
   "outputs": [],
   "source": [
    "# Ans6> \n",
    "def fib_num():\n",
    "    a,b=0,1\n",
    "    while True:\n",
    "        yield a\n",
    "        a,b= b, a+b\n",
    "    "
   ]
  },
  {
   "cell_type": "code",
   "execution_count": 9,
   "id": "59263fd8-b704-4e89-8b9e-27dd921234cb",
   "metadata": {},
   "outputs": [],
   "source": [
    "fib=fib_num()"
   ]
  },
  {
   "cell_type": "code",
   "execution_count": 10,
   "id": "8a6c1c89-ba48-4991-8225-3fd7d7053b6a",
   "metadata": {},
   "outputs": [
    {
     "data": {
      "text/plain": [
       "generator"
      ]
     },
     "execution_count": 10,
     "metadata": {},
     "output_type": "execute_result"
    }
   ],
   "source": [
    "type(fib)"
   ]
  },
  {
   "cell_type": "code",
   "execution_count": 11,
   "id": "2badacf6-ad04-4bce-8e33-5f1b47713341",
   "metadata": {},
   "outputs": [
    {
     "name": "stdout",
     "output_type": "stream",
     "text": [
      "0\n",
      "1\n",
      "1\n",
      "2\n",
      "3\n",
      "5\n",
      "8\n",
      "13\n",
      "21\n",
      "34\n"
     ]
    }
   ],
   "source": [
    "for i in range(10):\n",
    "    print(next(fib))"
   ]
  },
  {
   "cell_type": "code",
   "execution_count": 12,
   "id": "f6cda34d-581a-4f5d-bbca-7bc71c297173",
   "metadata": {},
   "outputs": [],
   "source": [
    "# Q7. Write a List Comprehension to iterate through the given string: ‘pwskills’.\n",
    "\n",
    "# Expected output: ['p', 'w', 's', 'k', 'i', 'l', 'l', 's'] "
   ]
  },
  {
   "cell_type": "code",
   "execution_count": 15,
   "id": "fba8471b-acf7-49ce-855a-1e783edf4dff",
   "metadata": {},
   "outputs": [],
   "source": [
    "p=\"pwskills\""
   ]
  },
  {
   "cell_type": "code",
   "execution_count": 17,
   "id": "1f281082-60b5-4074-9868-c471e6b373d7",
   "metadata": {},
   "outputs": [
    {
     "data": {
      "text/plain": [
       "['P', 'W', 'S', 'K', 'I', 'L', 'L', 'S']"
      ]
     },
     "execution_count": 17,
     "metadata": {},
     "output_type": "execute_result"
    }
   ],
   "source": [
    "list(map(lambda x : x.upper(), p))"
   ]
  },
  {
   "cell_type": "code",
   "execution_count": 18,
   "id": "d86d0462-bc1e-4abe-b5ae-86326b0ae4c1",
   "metadata": {},
   "outputs": [],
   "source": [
    "# Q8. Write a python program to check whether a given number is Palindrome or not using a while loop."
   ]
  },
  {
   "cell_type": "code",
   "execution_count": 5,
   "id": "acb19cda-4c71-4922-8318-c10fab93ecef",
   "metadata": {},
   "outputs": [
    {
     "name": "stdin",
     "output_type": "stream",
     "text": [
      "Enter the value 121\n"
     ]
    },
    {
     "name": "stdout",
     "output_type": "stream",
     "text": [
      " it is palindrome\n"
     ]
    }
   ],
   "source": [
    "#Ans 8>\n",
    "# A number is palindrome or not\n",
    "num= int(input(\"Enter the value\"))\n",
    "str_num=str(num)\n",
    "i=0\n",
    "j=len(str_num)-1\n",
    "flag=True\n",
    "while i<=j :\n",
    "    if str_num[i]!= str_num[j]:\n",
    "        flag=False\n",
    "        break\n",
    "        \n",
    "    i+=1\n",
    "    j-=1\n",
    "if flag==False:\n",
    "    print(\"Not a palindrome\")\n",
    "else:\n",
    "    print(\" it is palindrome\")"
   ]
  },
  {
   "cell_type": "code",
   "execution_count": 1,
   "id": "63be585e-a5de-4369-a186-bf01cf1717c4",
   "metadata": {},
   "outputs": [],
   "source": [
    "# Q9. Write a code to print odd numbers from 1 to 100 using list comprehension."
   ]
  },
  {
   "cell_type": "code",
   "execution_count": 9,
   "id": "df8ceba7-22db-43e3-92c6-ddc7345d3d7f",
   "metadata": {},
   "outputs": [
    {
     "name": "stdout",
     "output_type": "stream",
     "text": [
      "[1, 3, 5, 7, 9, 11, 13, 15, 17, 19, 21, 23, 25, 27, 29, 31, 33, 35, 37, 39, 41, 43, 45, 47, 49, 51, 53, 55, 57, 59, 61, 63, 65, 67, 69, 71, 73, 75, 77, 79, 81, 83, 85, 87, 89, 91, 93, 95, 97, 99]\n"
     ]
    }
   ],
   "source": [
    "odd_numbers = [num for num in range(1, 101) if num % 2 != 0]\n",
    "print(odd_numbers)"
   ]
  },
  {
   "cell_type": "markdown",
   "id": "7f1f7255-3f89-4c2b-b349-22b9ef12c972",
   "metadata": {},
   "source": [
    "### ------> C0MPLETED<-----"
   ]
  }
 ],
 "metadata": {
  "kernelspec": {
   "display_name": "Python 3 (ipykernel)",
   "language": "python",
   "name": "python3"
  },
  "language_info": {
   "codemirror_mode": {
    "name": "ipython",
    "version": 3
   },
   "file_extension": ".py",
   "mimetype": "text/x-python",
   "name": "python",
   "nbconvert_exporter": "python",
   "pygments_lexer": "ipython3",
   "version": "3.10.8"
  }
 },
 "nbformat": 4,
 "nbformat_minor": 5
}
