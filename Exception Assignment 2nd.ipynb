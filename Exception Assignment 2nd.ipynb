{
 "cells": [
  {
   "cell_type": "markdown",
   "id": "0c896172-e1c2-4e92-827b-4eb7d7640843",
   "metadata": {},
   "source": [
    "# -----> Exception Assignment 2nd <------\n"
   ]
  },
  {
   "cell_type": "markdown",
   "id": "60845f7e-b7d7-40a5-ad5b-b3361e2d8d1e",
   "metadata": {},
   "source": [
    "Q1. Explain why we have to use the Exception class while creating a Custom Exception."
   ]
  },
  {
   "cell_type": "markdown",
   "id": "deaadceb-fe0d-40c5-8431-b24b901dcc0e",
   "metadata": {},
   "source": [
    "Why we need a Custom Exception Class?\n",
    "In conclusion, you would want to use a Custom Exception class for the following reasons.\n",
    "\n",
    "1> To improve readability of your code.\n",
    "\n",
    "2> To enhance reusability of features.\n",
    "\n",
    "3> To provide custom messages/instructions to users for specific use cases.\n",
    "\n",
    "Here Exception class refers to the base class for all the exceptions.\n",
    "As we mentioned, exceptions are just regular classes that inherit from the Exception class. This makes it super easy to create our own custom exceptions, which can make our programs easier to follow and more readable. An exception need not be complicated, just inherit from Exception:\n",
    "It’s OK to have a custom Exception subclass that only pass-es - your exception doesn’t need to do anything fancy to be useful. Having custom exceptions - tailored to your specific use cases and that you can raise and catch in specific circumstances - can make your code much more readable and robust, and reduce the amount of code you write later to try and figure out what exactly went wrong.\n",
    "\n",
    "Of course, you can get as fancy as you want. You can send additional information, like messages, to your exceptions. Just add an __init__() method to your exception class, with whatever arguments you want.\n",
    "\n",
    "Exception takes an optional string argument message that gets printed with your exception. We pass our erroneous value to our IncorrectValueError object, which constructs a special message and passes it its parent class, Exception, via super().__init__(). The custom message string, along with the value for context, gets printed along with our error traceback."
   ]
  },
  {
   "cell_type": "markdown",
   "id": "f0d70492-30c3-4082-a0bb-28ff9adc0d9c",
   "metadata": {},
   "source": [
    "Q2. Write a python program to print Python Exception Hierarchy."
   ]
  },
  {
   "cell_type": "code",
   "execution_count": 2,
   "id": "3c191d2d-ea2b-4cee-ba4a-1224978292ec",
   "metadata": {},
   "outputs": [
    {
     "name": "stdout",
     "output_type": "stream",
     "text": [
      "sorry,we can type casting of str to int\n"
     ]
    }
   ],
   "source": [
    "try :\n",
    "    int(\"Pw_Skills\")\n",
    "except Exception as e:\n",
    "    print(\"sorry,we can type casting of str to int\")"
   ]
  },
  {
   "cell_type": "markdown",
   "id": "857a1c80-10b3-4d0d-b736-e0c7833b5b09",
   "metadata": {},
   "source": [
    "Q3. What errors are defined in the ArithmeticError class? Explain any two with an example."
   ]
  },
  {
   "cell_type": "markdown",
   "id": "b96da7b7-f5f4-4412-aa5e-39b558029d64",
   "metadata": {},
   "source": [
    "As we can see, by using the ArithmeticError exception class, we can handle both ZeroDivisionError and OverflowError exceptions. Use this exception class, anytime we are unsure of any arithmetic operations and the errors that it might result in. Check out other Python Built-in Exception classes in Python."
   ]
  },
  {
   "cell_type": "markdown",
   "id": "5088291f-8d8a-452f-aa0b-4d51cf9a8770",
   "metadata": {},
   "source": [
    "A ZeroDivisionError occurs in Python when a number is attempted to be divided by zero. Since division by zero is not allowed in mathematics, attempting this in Python code raises a ZeroDivisionError ."
   ]
  },
  {
   "cell_type": "code",
   "execution_count": 4,
   "id": "ea1a57ed-9484-474d-97b7-ce998f1760f7",
   "metadata": {},
   "outputs": [
    {
     "ename": "ZeroDivisionError",
     "evalue": "division by zero",
     "output_type": "error",
     "traceback": [
      "\u001b[0;31m---------------------------------------------------------------------------\u001b[0m",
      "\u001b[0;31mZeroDivisionError\u001b[0m                         Traceback (most recent call last)",
      "Cell \u001b[0;32mIn[4], line 1\u001b[0m\n\u001b[0;32m----> 1\u001b[0m a \u001b[38;5;241m=\u001b[39m \u001b[38;5;241;43m1\u001b[39;49m\u001b[38;5;241;43m/\u001b[39;49m\u001b[38;5;241;43m0\u001b[39;49m\n\u001b[1;32m      2\u001b[0m \u001b[38;5;28mprint\u001b[39m(a)\n",
      "\u001b[0;31mZeroDivisionError\u001b[0m: division by zero"
     ]
    }
   ],
   "source": [
    "a = 1/0\n",
    "print(a)"
   ]
  },
  {
   "cell_type": "code",
   "execution_count": 3,
   "id": "53a03865-b189-4f07-a6e1-a6cb53399938",
   "metadata": {},
   "outputs": [
    {
     "name": "stdout",
     "output_type": "stream",
     "text": [
      "division by zero\n"
     ]
    }
   ],
   "source": [
    "try:\n",
    "    a= 1/0\n",
    "except ZeroDivisionError as e:\n",
    "    print(e)"
   ]
  },
  {
   "cell_type": "markdown",
   "id": "bd811fcd-5234-4178-a4db-2cdbeea24e53",
   "metadata": {},
   "source": [
    "An OverflowError exception is raised when an arithmetic operation exceeds the limits to be represented. This is part of the ArithmeticError Exception class."
   ]
  },
  {
   "cell_type": "code",
   "execution_count": 7,
   "id": "033e629f-199f-464f-b67c-d0bfa38f2a1c",
   "metadata": {},
   "outputs": [
    {
     "name": "stdout",
     "output_type": "stream",
     "text": [
      "Simple program for showing overflow error\n",
      "\n",
      "\n",
      "The exponential value is\n"
     ]
    },
    {
     "ename": "OverflowError",
     "evalue": "math range error",
     "output_type": "error",
     "traceback": [
      "\u001b[0;31m---------------------------------------------------------------------------\u001b[0m",
      "\u001b[0;31mOverflowError\u001b[0m                             Traceback (most recent call last)",
      "Cell \u001b[0;32mIn[7], line 5\u001b[0m\n\u001b[1;32m      3\u001b[0m \u001b[38;5;28;01mimport\u001b[39;00m \u001b[38;5;21;01mmath\u001b[39;00m\n\u001b[1;32m      4\u001b[0m \u001b[38;5;28mprint\u001b[39m(\u001b[38;5;124m\"\u001b[39m\u001b[38;5;124mThe exponential value is\u001b[39m\u001b[38;5;124m\"\u001b[39m)\n\u001b[0;32m----> 5\u001b[0m \u001b[38;5;28mprint\u001b[39m(\u001b[43mmath\u001b[49m\u001b[38;5;241;43m.\u001b[39;49m\u001b[43mexp\u001b[49m\u001b[43m(\u001b[49m\u001b[38;5;241;43m1000\u001b[39;49m\u001b[43m)\u001b[49m)\n",
      "\u001b[0;31mOverflowError\u001b[0m: math range error"
     ]
    }
   ],
   "source": [
    "print(\"Simple program for showing overflow error\")\n",
    "print(\"\\n\")\n",
    "import math\n",
    "print(\"The exponential value is\")\n",
    "print(math.exp(1000))"
   ]
  },
  {
   "cell_type": "markdown",
   "id": "6479fb8e-90f9-436c-a910-427280590ae6",
   "metadata": {},
   "source": [
    "Explanation: In the above program, we can see that we are declaring math module and using to calculate exponential value such as exp(1000) which means e^x here x value is 1000 and e value is 2.7 where when are trying to calculate this it will give value as a result which is double and it cannot print the result, therefore, it gives an overflow error as seen in the above program which says it is out of range because the x value is 1000 which when results give the value which is out of range or double to store the value and print it."
   ]
  },
  {
   "cell_type": "markdown",
   "id": "0a541e9b-493a-41d7-a316-9b087dedb3f1",
   "metadata": {},
   "source": [
    "Now let us see how we can handle the above math out of range as overflow error by using try and except exception handling in the below program."
   ]
  },
  {
   "cell_type": "code",
   "execution_count": 8,
   "id": "dc543838-554f-4b89-b5fc-88ea27cff139",
   "metadata": {},
   "outputs": [
    {
     "name": "stdout",
     "output_type": "stream",
     "text": [
      "Simple program for showing overflow error\n",
      "\n",
      "\n",
      "The exponential value is\n",
      "After overflow math range error\n"
     ]
    }
   ],
   "source": [
    "print(\"Simple program for showing overflow error\")\n",
    "print(\"\\n\")\n",
    "\n",
    "import math\n",
    "\n",
    "try:\n",
    "    print(\"The exponential value is\")\n",
    "    print(math.exp(1000))\n",
    "    \n",
    "except OverflowError as e:\n",
    "    print(\"After overflow\", e)"
   ]
  },
  {
   "cell_type": "markdown",
   "id": "7a1e7934-1498-4984-8f03-99532dc9c4f1",
   "metadata": {},
   "source": [
    "Q4. Why LookupError class is used? Explain with an example KeyError and IndexError"
   ]
  },
  {
   "cell_type": "markdown",
   "id": "cffb1d79-ef5c-432f-ae4a-c236b1423c93",
   "metadata": {},
   "source": [
    "LookupError Exception is the Base class for errors raised when something can't be found. The base class for the exceptions that are raised when a key or index used on a mapping or sequence is invalid: IndexError, KeyError. An IndexError is raised when a sequence reference is out of range.12"
   ]
  },
  {
   "cell_type": "markdown",
   "id": "b2972c88-9c83-4588-94c5-c3c182c07327",
   "metadata": {},
   "source": [
    "Python KeyError is raised when we try to access a key from dict, which doesn’t exist. It’s one of the built-in exception classes and raised by many modules that work with dict or objects having key-value pairs."
   ]
  },
  {
   "cell_type": "code",
   "execution_count": 3,
   "id": "db4fec44-7373-4737-914e-e87f99c5294b",
   "metadata": {},
   "outputs": [
    {
     "ename": "KeyError",
     "evalue": "'D1'",
     "output_type": "error",
     "traceback": [
      "\u001b[0;31m---------------------------------------------------------------------------\u001b[0m",
      "\u001b[0;31mKeyError\u001b[0m                                  Traceback (most recent call last)",
      "Cell \u001b[0;32mIn[3], line 2\u001b[0m\n\u001b[1;32m      1\u001b[0m d \u001b[38;5;241m=\u001b[39m {\u001b[38;5;124m\"\u001b[39m\u001b[38;5;124mD\u001b[39m\u001b[38;5;124m\"\u001b[39m:\u001b[38;5;124m\"\u001b[39m\u001b[38;5;124mData_Science\u001b[39m\u001b[38;5;124m\"\u001b[39m, \u001b[38;5;124m\"\u001b[39m\u001b[38;5;124mW\u001b[39m\u001b[38;5;124m\"\u001b[39m:\u001b[38;5;124m\"\u001b[39m\u001b[38;5;124mWeb_Dev\u001b[39m\u001b[38;5;124m\"\u001b[39m}\n\u001b[0;32m----> 2\u001b[0m \u001b[38;5;28mprint\u001b[39m(\u001b[43md\u001b[49m\u001b[43m[\u001b[49m\u001b[38;5;124;43m\"\u001b[39;49m\u001b[38;5;124;43mD1\u001b[39;49m\u001b[38;5;124;43m\"\u001b[39;49m\u001b[43m]\u001b[49m)\n",
      "\u001b[0;31mKeyError\u001b[0m: 'D1'"
     ]
    }
   ],
   "source": [
    "d = {\"D\":\"Data_Science\", \"W\":\"Web_Dev\"}\n",
    "print(d[\"D1\"])"
   ]
  },
  {
   "cell_type": "code",
   "execution_count": 5,
   "id": "4ac32ac8-be7e-4798-95cc-f12dc10e731d",
   "metadata": {},
   "outputs": [
    {
     "name": "stdout",
     "output_type": "stream",
     "text": [
      "This is handle key error 'D1'\n"
     ]
    }
   ],
   "source": [
    "try:\n",
    "    d = {\"D\":\"Data_Science\", \"W\":\"Web_Dev\"}\n",
    "    print(d[\"D1\"])\n",
    "except KeyError as e:\n",
    "    print(\"This is handle key error\", e)"
   ]
  },
  {
   "cell_type": "markdown",
   "id": "d394b354-683c-446c-8f57-52a95b752331",
   "metadata": {},
   "source": [
    "Python index error whrn ouccurs when that index is not present in that list of code than this error will come "
   ]
  },
  {
   "cell_type": "code",
   "execution_count": 6,
   "id": "fd6a852a-c45d-437f-b9ed-89689c4a4401",
   "metadata": {},
   "outputs": [
    {
     "ename": "IndexError",
     "evalue": "list index out of range",
     "output_type": "error",
     "traceback": [
      "\u001b[0;31m---------------------------------------------------------------------------\u001b[0m",
      "\u001b[0;31mIndexError\u001b[0m                                Traceback (most recent call last)",
      "Cell \u001b[0;32mIn[6], line 2\u001b[0m\n\u001b[1;32m      1\u001b[0m l \u001b[38;5;241m=\u001b[39m [\u001b[38;5;241m1\u001b[39m,\u001b[38;5;241m2\u001b[39m,\u001b[38;5;241m3\u001b[39m,\u001b[38;5;241m4\u001b[39m]\n\u001b[0;32m----> 2\u001b[0m \u001b[43ml\u001b[49m\u001b[43m[\u001b[49m\u001b[38;5;241;43m5\u001b[39;49m\u001b[43m]\u001b[49m\n",
      "\u001b[0;31mIndexError\u001b[0m: list index out of range"
     ]
    }
   ],
   "source": [
    "l = [1,2,3,4]\n",
    "l[5]"
   ]
  },
  {
   "cell_type": "code",
   "execution_count": 7,
   "id": "37658e07-96ba-49d5-9df2-16533c8d9c89",
   "metadata": {},
   "outputs": [
    {
     "name": "stdout",
     "output_type": "stream",
     "text": [
      "this will handle your index error list index out of range\n"
     ]
    }
   ],
   "source": [
    "try:\n",
    "    l = [1,2,3,4]\n",
    "    l[5]\n",
    "except IndexError as e:\n",
    "    print(\"this will handle your index error\", e)"
   ]
  },
  {
   "cell_type": "markdown",
   "id": "c4d21387-2de0-471b-a1f7-c1977c2cecc0",
   "metadata": {},
   "source": [
    "Q5. Explain ImportError. What is ModuleNotFoundError?"
   ]
  },
  {
   "cell_type": "markdown",
   "id": "b1803bb7-0084-4fb9-8058-dbe50905066a",
   "metadata": {},
   "source": [
    "Import error occurs when that import module doesn't present"
   ]
  },
  {
   "cell_type": "code",
   "execution_count": 8,
   "id": "953496e8-7ef2-49ba-839d-1e54aa802605",
   "metadata": {},
   "outputs": [
    {
     "ename": "ModuleNotFoundError",
     "evalue": "No module named 'Arsh'",
     "output_type": "error",
     "traceback": [
      "\u001b[0;31m---------------------------------------------------------------------------\u001b[0m",
      "\u001b[0;31mModuleNotFoundError\u001b[0m                       Traceback (most recent call last)",
      "Cell \u001b[0;32mIn[8], line 1\u001b[0m\n\u001b[0;32m----> 1\u001b[0m \u001b[38;5;28;01mimport\u001b[39;00m \u001b[38;5;21;01mArsh\u001b[39;00m\n\u001b[1;32m      2\u001b[0m \u001b[38;5;28mprint\u001b[39m(\u001b[38;5;124m\"\u001b[39m\u001b[38;5;124mthis is Arsh\u001b[39m\u001b[38;5;124m\"\u001b[39m)\n",
      "\u001b[0;31mModuleNotFoundError\u001b[0m: No module named 'Arsh'"
     ]
    }
   ],
   "source": [
    "import Arsh\n",
    "print(\"this is Arsh\")"
   ]
  },
  {
   "cell_type": "code",
   "execution_count": 9,
   "id": "103234df-2fe9-4c49-962e-cc0c7b63b29d",
   "metadata": {},
   "outputs": [
    {
     "name": "stdout",
     "output_type": "stream",
     "text": [
      "No module named 'Arsh'\n"
     ]
    }
   ],
   "source": [
    "try:\n",
    "    import Arsh\n",
    "    print(\"this is Arsh\")\n",
    "except ImportError as e:\n",
    "    print(e)"
   ]
  },
  {
   "cell_type": "markdown",
   "id": "d7274ecf-b3c1-4dbd-930f-b0c958fb2ee0",
   "metadata": {},
   "source": [
    "Q6. List down some best practices for exception handling in python. \n"
   ]
  },
  {
   "cell_type": "markdown",
   "id": "274ff7c7-73e0-4c19-b377-51e174335fa0",
   "metadata": {},
   "source": [
    "### Don't use generic exception while we going forward to write Exception handling i.e"
   ]
  },
  {
   "cell_type": "code",
   "execution_count": 12,
   "id": "30b6a583-e6b8-4fce-b90d-1e223e193471",
   "metadata": {},
   "outputs": [
    {
     "name": "stdout",
     "output_type": "stream",
     "text": [
      "Don't use generic exception just like that division by zero\n"
     ]
    }
   ],
   "source": [
    "try :\n",
    "    a = 10\n",
    "    b = 0\n",
    "    c = a/b\n",
    "except Exception as e:\n",
    "    print(\"Don't use generic exception just like that\", e)"
   ]
  },
  {
   "cell_type": "markdown",
   "id": "e37630ba-dda3-41c9-bae8-f815ea716cc8",
   "metadata": {},
   "source": [
    "### use always specific exception"
   ]
  },
  {
   "cell_type": "code",
   "execution_count": 13,
   "id": "9f543bcd-7de0-49d2-b759-34eda39c7a76",
   "metadata": {},
   "outputs": [
    {
     "name": "stdout",
     "output_type": "stream",
     "text": [
      "Always use specific exception with cleraing name of error division by zero\n"
     ]
    }
   ],
   "source": [
    "try :\n",
    "    a = 10\n",
    "    b = 0\n",
    "    c = a/b\n",
    "except ZeroDivisionError as e:\n",
    "    print(\"Always use specific exception with cleraing name of error\", e)"
   ]
  },
  {
   "cell_type": "markdown",
   "id": "9895cc0c-2691-4418-b327-906f20d0df16",
   "metadata": {},
   "source": [
    "### print always a proper message i.e:"
   ]
  },
  {
   "cell_type": "code",
   "execution_count": 14,
   "id": "dfbf611d-02dc-4dc5-965d-e6c61f71d2d5",
   "metadata": {},
   "outputs": [
    {
     "name": "stdout",
     "output_type": "stream",
     "text": [
      "i am trying to handle ZeroDivisionError division by zero\n"
     ]
    }
   ],
   "source": [
    "try :\n",
    "    11/0\n",
    "except ZeroDivisionError as e:\n",
    "    print(\"i am trying to handle ZeroDivisionError\",e)"
   ]
  },
  {
   "cell_type": "markdown",
   "id": "2022b03b-64dd-46a8-bf8e-ea8d5e13d03d",
   "metadata": {},
   "source": [
    "### Always try to log your error"
   ]
  },
  {
   "cell_type": "code",
   "execution_count": 15,
   "id": "762a6b82-e884-428c-8684-864a10c8bd38",
   "metadata": {},
   "outputs": [],
   "source": [
    "import logging\n",
    "logging.basicConfig(filename= \"error.log\" , level = logging.ERROR)\n",
    "try :\n",
    "    11/0\n",
    "except ZeroDivisionError as e:\n",
    "    logging.error(\"i am trying to handle ZeroDivisionError {}\".format(e))"
   ]
  },
  {
   "cell_type": "markdown",
   "id": "03dadcce-c22b-47da-84f1-10792dba515d",
   "metadata": {},
   "source": [
    "### Always avoid to write a multiple exceptional handling"
   ]
  },
  {
   "cell_type": "code",
   "execution_count": 16,
   "id": "1609752f-fd76-429f-b1b3-3337bb4a55bf",
   "metadata": {},
   "outputs": [],
   "source": [
    "try:\n",
    "    a=\"arsh\"\n",
    "    b = 1\n",
    "    c= a+b\n",
    "except ZeroDivisionError as e:\n",
    "    logging.error(\"i'm trying to handle zerodivisionError {}\".format(e))\n",
    "except FileNotFoundError as e:\n",
    "    logging.error(\"i'm trying to handle FileNotFoundError {}\".format(e))\n",
    "except TypeError as e:\n",
    "    logging.error(\"i'm trying to handle TypeError {}\".format(e))"
   ]
  },
  {
   "cell_type": "markdown",
   "id": "d3bf28ba-308d-402f-96ac-4d85c2026e88",
   "metadata": {},
   "source": [
    "### Document all the error\n",
    "### cleanup all the resources"
   ]
  },
  {
   "cell_type": "code",
   "execution_count": 17,
   "id": "e33bb504-c711-476b-b65d-c99f89dd93cd",
   "metadata": {},
   "outputs": [
    {
     "ename": "NameError",
     "evalue": "name 'f' is not defined",
     "output_type": "error",
     "traceback": [
      "\u001b[0;31m---------------------------------------------------------------------------\u001b[0m",
      "\u001b[0;31mNameError\u001b[0m                                 Traceback (most recent call last)",
      "Cell \u001b[0;32mIn[17], line 3\u001b[0m\n\u001b[1;32m      2\u001b[0m     \u001b[38;5;28;01mwith\u001b[39;00m \u001b[38;5;28mopen\u001b[39m(\u001b[38;5;124m\"\u001b[39m\u001b[38;5;124mnew1.txt\u001b[39m\u001b[38;5;124m\"\u001b[39m, \u001b[38;5;124m'\u001b[39m\u001b[38;5;124mw\u001b[39m\u001b[38;5;124m'\u001b[39m):\n\u001b[0;32m----> 3\u001b[0m         \u001b[43mf\u001b[49m\u001b[38;5;241m.\u001b[39mwrite(\u001b[38;5;124m\"\u001b[39m\u001b[38;5;124mthis is new\u001b[39m\u001b[38;5;124m\"\u001b[39m)\n\u001b[1;32m      4\u001b[0m \u001b[38;5;28;01mexcept\u001b[39;00m \u001b[38;5;167;01mFileNotFoundError\u001b[39;00m \u001b[38;5;28;01mas\u001b[39;00m e:\n",
      "\u001b[0;31mNameError\u001b[0m: name 'f' is not defined",
      "\nDuring handling of the above exception, another exception occurred:\n",
      "\u001b[0;31mNameError\u001b[0m                                 Traceback (most recent call last)",
      "Cell \u001b[0;32mIn[17], line 7\u001b[0m\n\u001b[1;32m      5\u001b[0m     logging\u001b[38;5;241m.\u001b[39merror(\u001b[38;5;124m\"\u001b[39m\u001b[38;5;124mi\u001b[39m\u001b[38;5;124m'\u001b[39m\u001b[38;5;124mm trying to handle this error \u001b[39m\u001b[38;5;132;01m{}\u001b[39;00m\u001b[38;5;124m\"\u001b[39m\u001b[38;5;241m.\u001b[39mformat(e))\n\u001b[1;32m      6\u001b[0m \u001b[38;5;28;01mfinally\u001b[39;00m:\n\u001b[0;32m----> 7\u001b[0m     \u001b[43mf\u001b[49m\u001b[38;5;241m.\u001b[39mclose()\n",
      "\u001b[0;31mNameError\u001b[0m: name 'f' is not defined"
     ]
    }
   ],
   "source": [
    "try:\n",
    "    with open(\"new1.txt\", 'w'):\n",
    "        f.write(\"this is new\")\n",
    "except FileNotFoundError as e:\n",
    "    logging.error(\"i'm trying to handle this error {}\".format(e))\n",
    "finally:\n",
    "    f.close()"
   ]
  },
  {
   "cell_type": "code",
   "execution_count": null,
   "id": "f659b733-039e-441f-ac91-c2fccb8bd7c5",
   "metadata": {},
   "outputs": [],
   "source": []
  }
 ],
 "metadata": {
  "kernelspec": {
   "display_name": "Python 3 (ipykernel)",
   "language": "python",
   "name": "python3"
  },
  "language_info": {
   "codemirror_mode": {
    "name": "ipython",
    "version": 3
   },
   "file_extension": ".py",
   "mimetype": "text/x-python",
   "name": "python",
   "nbconvert_exporter": "python",
   "pygments_lexer": "ipython3",
   "version": "3.10.8"
  }
 },
 "nbformat": 4,
 "nbformat_minor": 5
}
