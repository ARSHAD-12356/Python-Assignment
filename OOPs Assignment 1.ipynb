{
 "cells": [
  {
   "cell_type": "markdown",
   "id": "a7ba6f07-1dc8-42e0-bcc9-a661b7a1c721",
   "metadata": {},
   "source": [
    "Q1. Explain Class and Object with respect to Object-Oriented Programming. Give a suitable example."
   ]
  },
  {
   "cell_type": "markdown",
   "id": "b2fb8b85-ee91-47ea-8446-d11575e91bbf",
   "metadata": {},
   "source": [
    "Ans 1>\n",
    "A class is considered as a blueprint of objects. We can think of the class as a sketch (prototype) of a house. It contains all the details about the floors, doors, windows, etc. Based on these descriptions we build the house. House is the object.\n",
    "\n",
    "Since many houses can be made from the same description, we can create many objects from a class.\n",
    "\n",
    "Object is an instance of a class. All data members and member functions of the class can be accessed with the help of objects. When a class is defined, no memory is allocated, but memory is allocated when it is instantiated (i.e. an object is created). For Example, considering the objects for the class Account are SBI Account, ICICI account, etc."
   ]
  },
  {
   "cell_type": "code",
   "execution_count": 41,
   "id": "39a28ea3-0bdc-46b5-b717-8ead7f9b97bd",
   "metadata": {},
   "outputs": [],
   "source": [
    "class pwskills:\n",
    "    def courses(self):\n",
    "        print(\"Data Science Master, DSA, Web_Dev\")"
   ]
  },
  {
   "cell_type": "code",
   "execution_count": 42,
   "id": "8b8a2def-6b21-40ed-bb97-d6399c8f0092",
   "metadata": {},
   "outputs": [],
   "source": [
    "pw = pwskills()"
   ]
  },
  {
   "cell_type": "code",
   "execution_count": 43,
   "id": "74482e1f-6d5e-48fa-84c5-b94f71f19b99",
   "metadata": {},
   "outputs": [
    {
     "name": "stdout",
     "output_type": "stream",
     "text": [
      "Data Science Master, DSA, Web_Dev\n"
     ]
    }
   ],
   "source": [
    "pw.courses()"
   ]
  },
  {
   "cell_type": "markdown",
   "id": "67d8696b-af09-489c-a30b-5f101eb1d69e",
   "metadata": {},
   "source": [
    "## Q2. Name the four pillars of OOPs."
   ]
  },
  {
   "cell_type": "markdown",
   "id": "90926dd3-5536-4fcc-8603-c2f007754928",
   "metadata": {},
   "source": [
    "### The Four Pillars of Object Oriented Programming is\n",
    "### 1>Polymorphism\n",
    "### 2>Encapsulation\n",
    "### 3>Inheritance\n",
    "### 4>Abstraction"
   ]
  },
  {
   "cell_type": "markdown",
   "id": "b2c6de30-52d8-4c0b-b93e-99172618a1ff",
   "metadata": {},
   "source": [
    "### Q3. Explain why the init() function is used. Give a suitable example."
   ]
  },
  {
   "cell_type": "markdown",
   "id": "8d43ea2c-312c-4d69-80bf-b4bf3b08f10c",
   "metadata": {},
   "source": [
    "The examples above are classes and objects in their simplest form, and are not really useful in real life applications.\n",
    "\n",
    "\n",
    "To understand the meaning of classes we have to understand the built-in __init__() function.\n",
    "\n",
    "\n",
    "All classes have a function called __init__(), which is always executed when the class is being initiated.\n",
    "\n",
    "\n",
    "Use the __init__() function to assign values to object properties, or other operations that are necessary to do when the object is being created:"
   ]
  },
  {
   "cell_type": "code",
   "execution_count": 1,
   "id": "23311ae1-b195-4600-97a8-361b5a015876",
   "metadata": {},
   "outputs": [],
   "source": [
    "class pwskills:\n",
    "    \n",
    "    def __init__(self, course_name , course_price ):\n",
    "        self.course_name = course_name\n",
    "        self.course_price = course_price\n",
    "        \n",
    "    def course_details(self):\n",
    "        return self.course_name,self.course_price"
   ]
  },
  {
   "cell_type": "code",
   "execution_count": 10,
   "id": "8d12d76f-a2d5-4473-8542-b68ee9ff260e",
   "metadata": {},
   "outputs": [],
   "source": [
    "pw = pwskills(\"data science master\", 3500)"
   ]
  },
  {
   "cell_type": "code",
   "execution_count": 3,
   "id": "3948aec7-73e6-4f4a-94d1-75d38ae918e5",
   "metadata": {},
   "outputs": [
    {
     "data": {
      "text/plain": [
       "'data science master'"
      ]
     },
     "execution_count": 3,
     "metadata": {},
     "output_type": "execute_result"
    }
   ],
   "source": [
    "pw.course_name"
   ]
  },
  {
   "cell_type": "code",
   "execution_count": 5,
   "id": "4945de8e-42d2-4d79-a533-77317a27aa6b",
   "metadata": {},
   "outputs": [
    {
     "data": {
      "text/plain": [
       "3500"
      ]
     },
     "execution_count": 5,
     "metadata": {},
     "output_type": "execute_result"
    }
   ],
   "source": [
    "pw.course_price"
   ]
  },
  {
   "cell_type": "code",
   "execution_count": 8,
   "id": "3432e831-23d0-494d-aa39-5c5fe24bc05f",
   "metadata": {},
   "outputs": [
    {
     "data": {
      "text/plain": [
       "('data science master', 3500)"
      ]
     },
     "execution_count": 8,
     "metadata": {},
     "output_type": "execute_result"
    }
   ],
   "source": [
    "pw.course_details()"
   ]
  },
  {
   "cell_type": "markdown",
   "id": "d8b56909-c4b8-4e4b-99d4-a1efe8553854",
   "metadata": {},
   "source": [
    "## Q4. Why self is used in OOPs?"
   ]
  },
  {
   "cell_type": "markdown",
   "id": "c81887fa-fc80-4077-b87f-4b8b37f94935",
   "metadata": {},
   "source": [
    "The self parameter is a reference to the current instance of the class, and is used to access variables that belongs to the class. and it is used to point data of our class\n",
    "\n",
    "It does not have to be named self , you can call it whatever you like Arsh or sudh as you want, but it has to be the first parameter of any function in the class:\n"
   ]
  },
  {
   "cell_type": "markdown",
   "id": "9b3434da-00a8-491a-be7a-f5b0b43974e7",
   "metadata": {},
   "source": [
    "### Q5. What is inheritance? Give an example for each type of inheritance. \n"
   ]
  },
  {
   "cell_type": "markdown",
   "id": "fe16cf41-e4c1-46e1-9475-c4909292813b",
   "metadata": {},
   "source": [
    "### Inheritance means that we can easiy store a method or funciton in another class\n",
    "### There are two types of Inheritance:\n",
    "### 1st> Multilabel Inheritance\n",
    "###    this inheritance can store method or function by label by label as our requirment\n",
    "### 2nd> Multiple Inheritance\n",
    "### This is the inheritance which inherit one or more method of function in another class as our requirment"
   ]
  },
  {
   "cell_type": "markdown",
   "id": "05e06420-e140-4e58-80a0-74e40ac1e7cf",
   "metadata": {},
   "source": [
    "Inheritance allows us to define a class that inherits all the methods and properties from another class.\n",
    "\n",
    "Parent class is the class being inherited from, also called base class.\n",
    "\n",
    "Child class is the class that inherits from another class, also called derived class.\n"
   ]
  },
  {
   "cell_type": "code",
   "execution_count": 1,
   "id": "85ee24df-4371-4b60-b679-3b9b7f543bbf",
   "metadata": {},
   "outputs": [],
   "source": [
    "# general inheritance"
   ]
  },
  {
   "cell_type": "code",
   "execution_count": 2,
   "id": "027d34a6-0067-46c2-a2ef-79a20585fae5",
   "metadata": {},
   "outputs": [],
   "source": [
    "class Arsh:\n",
    "    \n",
    "    def Arshad(self):\n",
    "        return \"This class is made by Arshad\""
   ]
  },
  {
   "cell_type": "code",
   "execution_count": 3,
   "id": "c79fc310-1872-4791-ae76-fd8b477bdfb9",
   "metadata": {},
   "outputs": [],
   "source": [
    "class Raza(Arsh):\n",
    "    pass"
   ]
  },
  {
   "cell_type": "code",
   "execution_count": 4,
   "id": "d4e1c77c-0c25-40ff-9dfa-9617aa61cf70",
   "metadata": {},
   "outputs": [],
   "source": [
    "obj_raza=Raza()"
   ]
  },
  {
   "cell_type": "code",
   "execution_count": 6,
   "id": "1e849997-5cbf-46ca-8e8f-124df3522182",
   "metadata": {},
   "outputs": [
    {
     "data": {
      "text/plain": [
       "'This class is made by Arshad'"
      ]
     },
     "execution_count": 6,
     "metadata": {},
     "output_type": "execute_result"
    }
   ],
   "source": [
    "obj_raza.Arshad()"
   ]
  },
  {
   "cell_type": "code",
   "execution_count": 7,
   "id": "d5a3721d-1e68-400d-9b06-66bb04151cd3",
   "metadata": {},
   "outputs": [],
   "source": [
    "# Multilabel Inheritance"
   ]
  },
  {
   "cell_type": "code",
   "execution_count": 8,
   "id": "d1b1b59c-ae8c-4b30-8ce6-af2934ec18f7",
   "metadata": {},
   "outputs": [],
   "source": [
    "class python:\n",
    "    \n",
    "    def python(self):\n",
    "        return \"python is a programming language\""
   ]
  },
  {
   "cell_type": "code",
   "execution_count": 9,
   "id": "28827b50-c74b-4b2f-97fe-972a04f1d9ee",
   "metadata": {},
   "outputs": [],
   "source": [
    "class coding(python):\n",
    "    def coding(self):\n",
    "        return \"This python programming is also called coding\""
   ]
  },
  {
   "cell_type": "code",
   "execution_count": 10,
   "id": "5cf7009d-830a-4cec-b760-345e97f47fa2",
   "metadata": {},
   "outputs": [],
   "source": [
    "class code_editor(coding):\n",
    "     def Vs_code(self):\n",
    "        return \"all coding code in Vs_code\""
   ]
  },
  {
   "cell_type": "code",
   "execution_count": 16,
   "id": "ebe3a8bf-87e4-4980-9790-19c454a682d0",
   "metadata": {},
   "outputs": [],
   "source": [
    "class system(code_editor):\n",
    "    pass"
   ]
  },
  {
   "cell_type": "code",
   "execution_count": 12,
   "id": "5b47a566-5e29-4596-b272-95e3ecf74613",
   "metadata": {},
   "outputs": [],
   "source": [
    "system_obj= system()"
   ]
  },
  {
   "cell_type": "code",
   "execution_count": 13,
   "id": "3bf78d7f-cad8-47c4-85ed-ee83dd2ef4f8",
   "metadata": {},
   "outputs": [
    {
     "data": {
      "text/plain": [
       "'python is a programming language'"
      ]
     },
     "execution_count": 13,
     "metadata": {},
     "output_type": "execute_result"
    }
   ],
   "source": [
    "system_obj.python()"
   ]
  },
  {
   "cell_type": "code",
   "execution_count": 14,
   "id": "163337ab-5bf2-4b93-a82d-42524a14c905",
   "metadata": {},
   "outputs": [
    {
     "data": {
      "text/plain": [
       "'This python programming is also called coding'"
      ]
     },
     "execution_count": 14,
     "metadata": {},
     "output_type": "execute_result"
    }
   ],
   "source": [
    "system_obj.coding()"
   ]
  },
  {
   "cell_type": "code",
   "execution_count": 17,
   "id": "1d205ad7-0647-47d6-beda-e86a5fbdd423",
   "metadata": {},
   "outputs": [
    {
     "data": {
      "text/plain": [
       "'all coding code in Vs_code'"
      ]
     },
     "execution_count": 17,
     "metadata": {},
     "output_type": "execute_result"
    }
   ],
   "source": [
    "system_obj.Vs_code()"
   ]
  },
  {
   "cell_type": "code",
   "execution_count": 18,
   "id": "3c10c2fb-44fe-4334-a62f-1879911a4967",
   "metadata": {},
   "outputs": [],
   "source": [
    "# Multiple Inheritance"
   ]
  },
  {
   "cell_type": "code",
   "execution_count": 25,
   "id": "76b4ba3b-7420-4e27-9bd8-dc34025f9017",
   "metadata": {},
   "outputs": [],
   "source": [
    "class online_shopping:\n",
    "    \n",
    "    def flipkart(self):\n",
    "        return \"flipkart is a online shopping platform\""
   ]
  },
  {
   "cell_type": "code",
   "execution_count": 26,
   "id": "51ac5038-386f-4f41-831d-bea18c5f3a3b",
   "metadata": {},
   "outputs": [],
   "source": [
    "class online_shopping1:\n",
    "    \n",
    "    def amazon(self):\n",
    "        return \"amazon is also online shopping platform\""
   ]
  },
  {
   "cell_type": "code",
   "execution_count": 28,
   "id": "3c69845b-5760-47bc-8712-0e15781aa014",
   "metadata": {},
   "outputs": [],
   "source": [
    "class shopping_sites(online_shopping , online_shopping1):\n",
    "    pass"
   ]
  },
  {
   "cell_type": "code",
   "execution_count": 30,
   "id": "e781cdff-2a1f-4f1c-9664-33a32b0a067e",
   "metadata": {},
   "outputs": [],
   "source": [
    "shopping_websites = shopping_sites()"
   ]
  },
  {
   "cell_type": "code",
   "execution_count": 33,
   "id": "d452ede1-3786-45d1-adf5-8f6a28cbb0e2",
   "metadata": {},
   "outputs": [
    {
     "data": {
      "text/plain": [
       "'flipkart is a online shopping platform'"
      ]
     },
     "execution_count": 33,
     "metadata": {},
     "output_type": "execute_result"
    }
   ],
   "source": [
    "shopping_websites.flipkart()"
   ]
  },
  {
   "cell_type": "code",
   "execution_count": 34,
   "id": "9f67b2e3-310b-43b9-8ff7-534aeefa651a",
   "metadata": {},
   "outputs": [
    {
     "data": {
      "text/plain": [
       "'amazon is also online shopping platform'"
      ]
     },
     "execution_count": 34,
     "metadata": {},
     "output_type": "execute_result"
    }
   ],
   "source": [
    "shopping_websites.amazon()"
   ]
  },
  {
   "cell_type": "code",
   "execution_count": null,
   "id": "53244824-3a8d-45e6-94ec-660664aae6eb",
   "metadata": {},
   "outputs": [],
   "source": []
  }
 ],
 "metadata": {
  "kernelspec": {
   "display_name": "Python 3 (ipykernel)",
   "language": "python",
   "name": "python3"
  },
  "language_info": {
   "codemirror_mode": {
    "name": "ipython",
    "version": 3
   },
   "file_extension": ".py",
   "mimetype": "text/x-python",
   "name": "python",
   "nbconvert_exporter": "python",
   "pygments_lexer": "ipython3",
   "version": "3.10.8"
  }
 },
 "nbformat": 4,
 "nbformat_minor": 5
}
