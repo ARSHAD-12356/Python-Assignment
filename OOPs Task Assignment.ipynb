{
 "cells": [
  {
   "cell_type": "markdown",
   "id": "6cdbced8-3e6d-4202-850a-ac13a58fc876",
   "metadata": {},
   "source": [
    "### Q1> Create a vehicle class with an init method having instance variables as name_of_vehicle, max_speed and average_of_vehicle."
   ]
  },
  {
   "cell_type": "code",
   "execution_count": 40,
   "id": "b43a04a1-695a-4b40-87a3-8a3f7d8d3101",
   "metadata": {},
   "outputs": [],
   "source": [
    "# Ans1>\n",
    "class vehicle:\n",
    "    \n",
    "    def __init__(self, name_of_vehicle , max_speed , average_of_vehicle):\n",
    "        self.name_of_vehicle= name_of_vehicle\n",
    "        self.max_speed = max_speed\n",
    "        self.average_of_vehicle= average_of_vehicle\n",
    "        \n",
    "    def vehicle_details(self):\n",
    "        return self.name_of_vehicle , self.max_speed , self.average_of_vehicle"
   ]
  },
  {
   "cell_type": "code",
   "execution_count": 42,
   "id": "db334660-4ce1-4366-8b5c-85eeb7cd73d0",
   "metadata": {},
   "outputs": [],
   "source": [
    "obj_vehicle = vehicle(\"Farari\", \"200 km/hr\" ,\"60 km/hr\")"
   ]
  },
  {
   "cell_type": "code",
   "execution_count": 43,
   "id": "041f5477-5d2b-4e5f-bb49-954916cc976f",
   "metadata": {},
   "outputs": [
    {
     "data": {
      "text/plain": [
       "('Farari', '200 km/hr', '60 km/hr')"
      ]
     },
     "execution_count": 43,
     "metadata": {},
     "output_type": "execute_result"
    }
   ],
   "source": [
    "obj_vehicle.vehicle_details()"
   ]
  },
  {
   "cell_type": "markdown",
   "id": "afc54e1b-5a1c-421f-afbf-312dc98362b7",
   "metadata": {},
   "source": [
    "### Q2. Create a child class car from the vehicle class created in Que 1, which will inherit the vehicle class.Create a method named seating_capacity which takes capacity as an argument and returns the name of the vehicle and its seating capacity."
   ]
  },
  {
   "cell_type": "code",
   "execution_count": 44,
   "id": "3b70ff2e-6b09-499b-8976-e21d3f9c9aaa",
   "metadata": {},
   "outputs": [],
   "source": [
    "# Ans2>\n",
    "class car:\n",
    "    def __init__(self, name_of_vehicle, capacity):\n",
    "        self.name_of_vehicle = name_of_vehicle\n",
    "        self.capacity = capacity\n",
    "        \n",
    "    def seating_capacity(self):\n",
    "        return self.name_of_vehicle , self. capacity"
   ]
  },
  {
   "cell_type": "code",
   "execution_count": 45,
   "id": "971268a6-fbe7-4bd7-896e-caa366128b5a",
   "metadata": {},
   "outputs": [],
   "source": [
    "class vehicle(car):\n",
    "    pass"
   ]
  },
  {
   "cell_type": "code",
   "execution_count": 46,
   "id": "cc69e3f6-abe8-4ec7-8f04-601815e2b9e7",
   "metadata": {},
   "outputs": [],
   "source": [
    "obj_vehicle = vehicle(\"Farari\", \"7\")"
   ]
  },
  {
   "cell_type": "code",
   "execution_count": 47,
   "id": "53e0c07d-a94f-4f17-abb6-bddfc7eb99bc",
   "metadata": {},
   "outputs": [
    {
     "data": {
      "text/plain": [
       "('Farari', '7')"
      ]
     },
     "execution_count": 47,
     "metadata": {},
     "output_type": "execute_result"
    }
   ],
   "source": [
    "obj_vehicle.seating_capacity()"
   ]
  },
  {
   "cell_type": "markdown",
   "id": "1cdf7216-e337-4581-a4fc-3700f5f0adff",
   "metadata": {},
   "source": [
    "### Q3. What is multiple inheritance? Write a python code to demonstrate multiple inheritance."
   ]
  },
  {
   "cell_type": "markdown",
   "id": "83d7f0b0-a579-4cad-b39e-317db2e91547",
   "metadata": {},
   "source": [
    "### Ans3>\n",
    "### This is the inheritance which inherit one or more method of function in another class as our requirment"
   ]
  },
  {
   "cell_type": "code",
   "execution_count": 49,
   "id": "f103ac5a-0183-4461-8060-d076f28392b6",
   "metadata": {},
   "outputs": [],
   "source": [
    "class College_Wallah:\n",
    "    \n",
    "    def college_wallah(self):\n",
    "        return \"This is a skill development channel of PW\""
   ]
  },
  {
   "cell_type": "code",
   "execution_count": 50,
   "id": "35f2b091-b4a5-4944-a184-6f1bfa96a720",
   "metadata": {},
   "outputs": [],
   "source": [
    "class JEE_Wallah:\n",
    "    \n",
    "    def JEE_Wallah(self):\n",
    "        return \"This is for JEE Aspirnt channel of PW\""
   ]
  },
  {
   "cell_type": "code",
   "execution_count": 51,
   "id": "2762068c-d5a5-4132-a1c1-2710b2a89417",
   "metadata": {},
   "outputs": [],
   "source": [
    "class Physics_Wallah(College_Wallah , JEE_Wallah):\n",
    "    pass"
   ]
  },
  {
   "cell_type": "code",
   "execution_count": 52,
   "id": "dcc8fdb6-d803-4ad5-b108-f39b387fd19f",
   "metadata": {},
   "outputs": [],
   "source": [
    "PW = Physics_Wallah()"
   ]
  },
  {
   "cell_type": "code",
   "execution_count": 53,
   "id": "a58328b5-2b6e-4970-bc91-87375357b1e7",
   "metadata": {},
   "outputs": [
    {
     "data": {
      "text/plain": [
       "'This is a skill development channel of PW'"
      ]
     },
     "execution_count": 53,
     "metadata": {},
     "output_type": "execute_result"
    }
   ],
   "source": [
    "PW.college_wallah()"
   ]
  },
  {
   "cell_type": "code",
   "execution_count": 54,
   "id": "ca910710-508c-4c8a-aa87-715e8cf421da",
   "metadata": {},
   "outputs": [
    {
     "data": {
      "text/plain": [
       "'This is for JEE Aspirnt channel of PW'"
      ]
     },
     "execution_count": 54,
     "metadata": {},
     "output_type": "execute_result"
    }
   ],
   "source": [
    "PW.JEE_Wallah()"
   ]
  },
  {
   "cell_type": "markdown",
   "id": "2dc502d2-7896-4d3c-a410-426895a18d6f",
   "metadata": {},
   "source": [
    "### Q4. What are getter and setter in python? Create a class and create a getter and a setter method in this class."
   ]
  },
  {
   "cell_type": "markdown",
   "id": "97fb2ebe-0656-4ef6-9f4d-1beade958202",
   "metadata": {},
   "source": [
    "#### Ans> In Python, getters and setters are not the same as those in other object-oriented programming languages. Basically, the main purpose of using getters and setters in object-oriented programs is to ensure data encapsulation. Private variables in python..."
   ]
  },
  {
   "cell_type": "code",
   "execution_count": 58,
   "id": "28baa96d-a836-4fdc-a7f5-0e71c7d95f18",
   "metadata": {},
   "outputs": [],
   "source": [
    "class bike :\n",
    "    \n",
    "    def __init__(self, company , milage , max_speed , avg_speed):\n",
    "        self.__company= company\n",
    "        self.__milage = milage\n",
    "        self.__max_speed= max_speed\n",
    "        self.__avg_speed= avg_speed\n",
    "        \n",
    "    def set_speed(self, speed):\n",
    "        self.__speed = 0 if speed < 0 else speed\n",
    "        \n",
    "    def get_speed(self):\n",
    "        return self.__speed"
   ]
  },
  {
   "cell_type": "code",
   "execution_count": 59,
   "id": "2ddd4498-fbfc-49ca-9c93-baae54493d70",
   "metadata": {},
   "outputs": [],
   "source": [
    "Bike = bike(\"Pulsar 180\", \"60/hr\" , \"180/hr\", \"60/hr\")"
   ]
  },
  {
   "cell_type": "code",
   "execution_count": 60,
   "id": "ea44e5f9-ab49-49d7-9ee3-e819bf41f879",
   "metadata": {},
   "outputs": [],
   "source": [
    "Bike.set_speed(45)"
   ]
  },
  {
   "cell_type": "code",
   "execution_count": 61,
   "id": "c626104e-d936-4c33-bfbe-261a5b29f1f6",
   "metadata": {},
   "outputs": [
    {
     "data": {
      "text/plain": [
       "45"
      ]
     },
     "execution_count": 61,
     "metadata": {},
     "output_type": "execute_result"
    }
   ],
   "source": [
    "Bike.get_speed()"
   ]
  },
  {
   "cell_type": "markdown",
   "id": "3828c3eb-1140-42bc-8d82-ead81c795973",
   "metadata": {},
   "source": [
    " ## Q5.What is method overriding in python? Write a python code to demonstrate method overriding."
   ]
  },
  {
   "cell_type": "markdown",
   "id": "a4421e3f-b812-488a-9e12-ccf640a60d7b",
   "metadata": {},
   "source": [
    "### Method overriding is an ability of any object-oriented programming language that allows a subclass or child class to provide a specific implementation of a method that is already provided by one of its super-classes or parent classes. in another word i think this is polymorphism concept"
   ]
  },
  {
   "cell_type": "code",
   "execution_count": 62,
   "id": "2b79b9af-75fa-462c-a257-b2619819cad8",
   "metadata": {},
   "outputs": [],
   "source": [
    "class Web_Dev():\n",
    "    \n",
    "    def syllabus(self):\n",
    "        print(\"This is the syllabus of Web_Dev\")"
   ]
  },
  {
   "cell_type": "code",
   "execution_count": 75,
   "id": "3b09429a-a929-4c2d-9992-123c01eacdfd",
   "metadata": {},
   "outputs": [],
   "source": [
    "class DSA():\n",
    "    \n",
    "    def syllabus(self):\n",
    "        print(\"This is the syllabus of DSA\")"
   ]
  },
  {
   "cell_type": "code",
   "execution_count": 71,
   "id": "3ec38330-81f1-4791-abca-e5d245bf1dda",
   "metadata": {},
   "outputs": [],
   "source": [
    "def class_parcer(class_obj):\n",
    "    for i in class_obj:\n",
    "        i.syllabus()"
   ]
  },
  {
   "cell_type": "code",
   "execution_count": 72,
   "id": "7f2946c8-3ba7-4122-81f3-49906542d6c0",
   "metadata": {},
   "outputs": [],
   "source": [
    "WD = Web_Dev()"
   ]
  },
  {
   "cell_type": "code",
   "execution_count": 77,
   "id": "3769bc3e-fce8-4b4a-ac86-3352c9ab5add",
   "metadata": {},
   "outputs": [],
   "source": [
    "DSA  = DSA()"
   ]
  },
  {
   "cell_type": "code",
   "execution_count": 78,
   "id": "bf8b64e2-b399-453a-85e5-d26f8bc09e14",
   "metadata": {},
   "outputs": [],
   "source": [
    "class_obj = [WD,DSA]"
   ]
  },
  {
   "cell_type": "code",
   "execution_count": 79,
   "id": "add4d016-4d5d-4cf5-bb56-416b40634567",
   "metadata": {},
   "outputs": [
    {
     "name": "stdout",
     "output_type": "stream",
     "text": [
      "This is the syllabus of Web_Dev\n",
      "This is the syllabus of DSA\n"
     ]
    }
   ],
   "source": [
    "class_parcer(class_obj)"
   ]
  },
  {
   "cell_type": "code",
   "execution_count": null,
   "id": "ee009e7b-2987-4fbb-82f9-9eec181cf144",
   "metadata": {},
   "outputs": [],
   "source": []
  }
 ],
 "metadata": {
  "kernelspec": {
   "display_name": "Python 3 (ipykernel)",
   "language": "python",
   "name": "python3"
  },
  "language_info": {
   "codemirror_mode": {
    "name": "ipython",
    "version": 3
   },
   "file_extension": ".py",
   "mimetype": "text/x-python",
   "name": "python",
   "nbconvert_exporter": "python",
   "pygments_lexer": "ipython3",
   "version": "3.10.8"
  }
 },
 "nbformat": 4,
 "nbformat_minor": 5
}
