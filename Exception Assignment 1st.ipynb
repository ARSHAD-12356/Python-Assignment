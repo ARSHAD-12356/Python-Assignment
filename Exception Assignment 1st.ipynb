{
 "cells": [
  {
   "cell_type": "markdown",
   "id": "bbae9ac9-196d-4b00-8016-255345d15367",
   "metadata": {},
   "source": [
    "# -------> Exception Assignment 1st <-------"
   ]
  },
  {
   "cell_type": "markdown",
   "id": "56e9829f-52f3-4741-9b6c-d0b15bf58e82",
   "metadata": {},
   "source": [
    "Q1. What is an Exception in Python ? write the diffrence between Exceptions and Syntax Error"
   ]
  },
  {
   "cell_type": "markdown",
   "id": "1f0b8ca7-a38e-463b-8d2c-9d4047295738",
   "metadata": {},
   "source": [
    "Error in Python can be of two types i.e. Syntax errors and Exceptions. Errors are problems in a program due to which the program will stop the execution. On the other hand, exceptions are raised when some internal events occur which change the normal flow of the program. \n",
    "\n",
    "In Python, there are several built-in exceptions that can be raised when an error occurs during the execution of a program. Here are some of the most common types of exceptions in Python such as TypeError, AttributeError, ZeroDivisionError or etc.\n",
    "\n",
    "Difference between Syntax Error and Exceptions :------\n",
    "\n",
    "Syntax Error: As the name suggests this error is caused by the wrong syntax in the code. It leads to the termination of the program.\n",
    "\n",
    "Exceptions: Exceptions are raised when the program is syntactically correct, but the code results in an error. This error does not stop the execution of the program, however, it changes the normal flow of the program."
   ]
  },
  {
   "cell_type": "markdown",
   "id": "f2b51640-e96e-4ae1-9791-81083db0d28a",
   "metadata": {},
   "source": [
    "Q2.> What happens when an exception is not handle? Explain with an example"
   ]
  },
  {
   "cell_type": "markdown",
   "id": "5fa1d4ab-fc9a-4d81-8e6f-13c8e4de8ea0",
   "metadata": {},
   "source": [
    "When an exception is not handled, it results in an \"unhandled exception\" or \"exception propagation.\" In such a case, the normal execution flow of the program is disrupted, and the program terminates abruptly, usually with an error message indicating the unhandled exception."
   ]
  },
  {
   "cell_type": "code",
   "execution_count": 4,
   "id": "b3a9384d-75e9-4adf-86e1-93c006e27feb",
   "metadata": {},
   "outputs": [
    {
     "ename": "ZeroDivisionError",
     "evalue": "division by zero",
     "output_type": "error",
     "traceback": [
      "\u001b[0;31m---------------------------------------------------------------------------\u001b[0m",
      "\u001b[0;31mZeroDivisionError\u001b[0m                         Traceback (most recent call last)",
      "Cell \u001b[0;32mIn[4], line 13\u001b[0m\n\u001b[1;32m      9\u001b[0m     \u001b[38;5;28;01mexcept\u001b[39;00m \u001b[38;5;167;01mValueError\u001b[39;00m:\n\u001b[1;32m     10\u001b[0m         \u001b[38;5;28mprint\u001b[39m(\u001b[38;5;124m\"\u001b[39m\u001b[38;5;124mValueError occurred.\u001b[39m\u001b[38;5;124m\"\u001b[39m)\n\u001b[0;32m---> 13\u001b[0m \u001b[43mperform_calculation\u001b[49m\u001b[43m(\u001b[49m\u001b[43m)\u001b[49m\n",
      "Cell \u001b[0;32mIn[4], line 7\u001b[0m, in \u001b[0;36mperform_calculation\u001b[0;34m()\u001b[0m\n\u001b[1;32m      5\u001b[0m \u001b[38;5;28;01mdef\u001b[39;00m \u001b[38;5;21mperform_calculation\u001b[39m():\n\u001b[1;32m      6\u001b[0m     \u001b[38;5;28;01mtry\u001b[39;00m:\n\u001b[0;32m----> 7\u001b[0m         result \u001b[38;5;241m=\u001b[39m \u001b[43mdivide_numbers\u001b[49m\u001b[43m(\u001b[49m\u001b[38;5;241;43m10\u001b[39;49m\u001b[43m,\u001b[49m\u001b[43m \u001b[49m\u001b[38;5;241;43m0\u001b[39;49m\u001b[43m)\u001b[49m  \u001b[38;5;66;03m# Division by zero will raise an exception\u001b[39;00m\n\u001b[1;32m      8\u001b[0m         \u001b[38;5;28mprint\u001b[39m(\u001b[38;5;124m\"\u001b[39m\u001b[38;5;124mResult:\u001b[39m\u001b[38;5;124m\"\u001b[39m, result)\n\u001b[1;32m      9\u001b[0m     \u001b[38;5;28;01mexcept\u001b[39;00m \u001b[38;5;167;01mValueError\u001b[39;00m:\n",
      "Cell \u001b[0;32mIn[4], line 2\u001b[0m, in \u001b[0;36mdivide_numbers\u001b[0;34m(a, b)\u001b[0m\n\u001b[1;32m      1\u001b[0m \u001b[38;5;28;01mdef\u001b[39;00m \u001b[38;5;21mdivide_numbers\u001b[39m(a, b):\n\u001b[0;32m----> 2\u001b[0m     result \u001b[38;5;241m=\u001b[39m \u001b[43ma\u001b[49m\u001b[43m \u001b[49m\u001b[38;5;241;43m/\u001b[39;49m\u001b[43m \u001b[49m\u001b[43mb\u001b[49m\n\u001b[1;32m      3\u001b[0m     \u001b[38;5;28;01mreturn\u001b[39;00m result\n",
      "\u001b[0;31mZeroDivisionError\u001b[0m: division by zero"
     ]
    }
   ],
   "source": [
    "def divide_numbers(a, b):\n",
    "    result = a / b\n",
    "    return result\n",
    "\n",
    "def perform_calculation():\n",
    "    try:\n",
    "        result = divide_numbers(10, 0)  # Division by zero will raise an exception\n",
    "        print(\"Result:\", result)\n",
    "    except ValueError:\n",
    "        print(\"ValueError occurred.\")\n",
    "        \n",
    "        \n",
    "perform_calculation()"
   ]
  },
  {
   "cell_type": "markdown",
   "id": "a02d0212-602c-4ae9-a8d9-442c129d240c",
   "metadata": {},
   "source": [
    "Q3> Which python statements are used to catch and handle exceptions? explain with an example"
   ]
  },
  {
   "cell_type": "markdown",
   "id": "e1f2d93d-1585-4550-a9d4-ec89d9912748",
   "metadata": {},
   "source": [
    "The basic form in Python is the “Python try except.” The try clause contains the critical operation that can cause an exception. The except clause contains the code that handles exceptions. The try block allows you to check for mistakes in a block of code. "
   ]
  },
  {
   "cell_type": "code",
   "execution_count": 15,
   "id": "3c5c5c01-f5ae-4e66-a6bf-6c27d6bf1e39",
   "metadata": {},
   "outputs": [],
   "source": [
    "import logging\n",
    "logging.basicConfig(filename = \"assignment_error.log\", level = logging.ERROR)\n",
    "try :\n",
    "    a = 10\n",
    "    b = 0\n",
    "    c = a/b\n",
    "    print(c)\n",
    "except ZeroDivisionError as e:\n",
    "    logging.error(\"it can't divisible by zero {}\".format(e))"
   ]
  },
  {
   "cell_type": "markdown",
   "id": "633ca370-badc-46b7-a276-d02e5104432d",
   "metadata": {},
   "source": [
    "Q4. Explain with an example :\n",
    "\n",
    "1> try and else\n",
    "\n",
    "2> finally\n",
    "\n",
    "3> raise"
   ]
  },
  {
   "cell_type": "markdown",
   "id": "338fe466-b588-4cf6-bc39-930b89e101d9",
   "metadata": {},
   "source": [
    "try and else :--\n",
    "Try: This block will test the excepted error to occur\n",
    "Else: If there is no exception then this block will be executed\n",
    "let's example"
   ]
  },
  {
   "cell_type": "code",
   "execution_count": 2,
   "id": "ccb55906-6d60-47b4-8455-e4875092a90a",
   "metadata": {},
   "outputs": [],
   "source": [
    "import logging\n",
    "logging.basicConfig(filename = \"new_error.log\", level = logging.DEBUG)\n",
    "try :\n",
    "    a = \"Data\"\n",
    "    b = \"Science\"\n",
    "    c = a + b\n",
    "except AttributeError as e:\n",
    "    logging.error(\"when an error is occured than except block will handle it {}\".format(e))\n",
    "else :\n",
    "    logging.info(\"when no error is occured than try block data give to the else block\")"
   ]
  },
  {
   "cell_type": "markdown",
   "id": "18053518-e2f2-4b4c-b424-d18a0f70ac60",
   "metadata": {},
   "source": [
    "finally : this block is always executed even error is occured or not\n",
    "\n",
    "finally will execute itself in any situation"
   ]
  },
  {
   "cell_type": "code",
   "execution_count": 3,
   "id": "18dd275d-9fcd-42ca-a9fc-530bd8d175ce",
   "metadata": {},
   "outputs": [],
   "source": [
    "try :\n",
    "    with open(\"arsh.txt\", 'w') as f:\n",
    "        file = f.write(\"something will written in this file\")\n",
    "except:\n",
    "    logging.error(\"you know except block doesn't work in this case {}\".format(e))\n",
    "finally :\n",
    "    logging.info(\"this block will execute wheather try block execute or not \")"
   ]
  },
  {
   "cell_type": "code",
   "execution_count": 4,
   "id": "73da5b85-54fd-455e-b049-90781511a8a7",
   "metadata": {},
   "outputs": [],
   "source": [
    "try :\n",
    "    with open(\"arsh.txt\", 'r') as f:\n",
    "        file = f.read()\n",
    "except:\n",
    "    logging.error(\"you know except block work in this case and it handle it {}\".format(e))\n",
    "finally :\n",
    "    logging.info(\"this block will execute wheather try block execute or not\")"
   ]
  },
  {
   "cell_type": "markdown",
   "id": "4677a102-1f78-4c66-9e4e-ad0b7680bf96",
   "metadata": {},
   "source": [
    "Raise :-- As a Python developer you can choose to throw an exception if a condition occurs.\n",
    "\n",
    "To throw (or raise) an exception, use the raise keyword.\n",
    "\n",
    "Example"
   ]
  },
  {
   "cell_type": "code",
   "execution_count": 15,
   "id": "a85c4167-bea7-4fa2-80e4-dd6259f63a82",
   "metadata": {},
   "outputs": [
    {
     "ename": "Exception",
     "evalue": "Sorry,You have an insufficent balance",
     "output_type": "error",
     "traceback": [
      "\u001b[0;31m---------------------------------------------------------------------------\u001b[0m",
      "\u001b[0;31mException\u001b[0m                                 Traceback (most recent call last)",
      "Cell \u001b[0;32mIn[15], line 3\u001b[0m\n\u001b[1;32m      1\u001b[0m withdraw_amount\u001b[38;5;241m=\u001b[39m\u001b[38;5;241m1000\u001b[39m\n\u001b[1;32m      2\u001b[0m \u001b[38;5;28;01mif\u001b[39;00m withdraw_amount\u001b[38;5;241m>\u001b[39m\u001b[38;5;241m500\u001b[39m:\n\u001b[0;32m----> 3\u001b[0m     \u001b[38;5;28;01mraise\u001b[39;00m \u001b[38;5;167;01mException\u001b[39;00m(\u001b[38;5;124m\"\u001b[39m\u001b[38;5;124mSorry,You have an insufficent balance\u001b[39m\u001b[38;5;124m\"\u001b[39m)\n",
      "\u001b[0;31mException\u001b[0m: Sorry,You have an insufficent balance"
     ]
    }
   ],
   "source": [
    "withdraw_amount=1000\n",
    "if withdraw_amount>500:\n",
    "    raise Exception(\"Sorry,You have an insufficent balance\")"
   ]
  },
  {
   "cell_type": "markdown",
   "id": "2540132c-7f78-46d2-8d01-9287f6c36cd8",
   "metadata": {},
   "source": [
    "Q5> What are custom exceptions in python? why do we need custom exceptions? Explain with an example"
   ]
  },
  {
   "cell_type": "markdown",
   "id": "b649fa09-3972-4cf8-adcf-68c5f7ad7bc5",
   "metadata": {},
   "source": [
    "Python Custom Exception\n",
    "The following example defines a CustomException class that inherits from the Exception class:\n",
    "Note that the CustomException class has a docstring that behaves like a statement. Therefore, you don’t need to add the pass statement to make the syntax valid.\n",
    "\n",
    "To raise the CustomException, you use the raise statement. For example, the following uses the raise statement to raise the CustomException:\n",
    "\n",
    "Like standard exception classes, custom exceptions are also classes. Hence, you can add functionality to the custom exception classes like:\n",
    "\n",
    "Adding attributes and properties.\n",
    "Adding methods e.g., log the exception, format the output, etc.\n",
    "Overriding the __str__ and __repr__ methods\n",
    "And doing anything else that you can do with regular classes.\n",
    "In practice, you’ll want to keep the custom exceptions organized by creating a custom exception hierarchy. The custom exception hierarchy allows you to catch exceptions at multiple levels, like the standard exception classes."
   ]
  },
  {
   "cell_type": "markdown",
   "id": "3164a09c-de54-4471-a506-90ac9a0ea972",
   "metadata": {},
   "source": [
    "### In my words :--\n",
    "if we want to write a program for custom exception than first use class in which inherit Exception which is superclaas for all kinds of error than define a method for that error codntition in which if or else used in it with raise keyword define that exception as our requirment.\n",
    "than "
   ]
  },
  {
   "cell_type": "code",
   "execution_count": 16,
   "id": "ebccaf73-d971-4cd3-9050-7e5d1af964b5",
   "metadata": {},
   "outputs": [
    {
     "name": "stdin",
     "output_type": "stream",
     "text": [
      "My current balance is  5000\n"
     ]
    }
   ],
   "source": [
    "bank_balance = int(input(\"My current balance is \"))"
   ]
  },
  {
   "cell_type": "code",
   "execution_count": 17,
   "id": "778acab8-b65d-4dac-b70b-827749966ce4",
   "metadata": {},
   "outputs": [],
   "source": [
    "class clas_bank_balance(Exception):\n",
    "    \n",
    "    def __init__(self, msg):\n",
    "        self.msg = msg"
   ]
  },
  {
   "cell_type": "code",
   "execution_count": 18,
   "id": "13a32826-30c5-4356-9928-7afa6b56549a",
   "metadata": {},
   "outputs": [],
   "source": [
    "def fun_bankbalance(bank_balance):\n",
    "    if bank_balance<500:\n",
    "        raise clas_bank_balance(\"Please withdraw at least 500\")\n",
    "    elif bank_balance>5000:\n",
    "        raise clas_bank_balance(\"you don't have insufficent balance\")\n",
    "    else:\n",
    "        print(\"you have valid balance\")"
   ]
  },
  {
   "cell_type": "code",
   "execution_count": 20,
   "id": "ea307eac-d10c-47f8-974c-515ceaa9316e",
   "metadata": {},
   "outputs": [
    {
     "name": "stdin",
     "output_type": "stream",
     "text": [
      "My current balance is  10000\n"
     ]
    },
    {
     "name": "stdout",
     "output_type": "stream",
     "text": [
      "you don't have insufficent balance\n"
     ]
    }
   ],
   "source": [
    "try:\n",
    "    bank_balance = int(input(\"My current balance is \"))\n",
    "    fun_bankbalance(bank_balance)\n",
    "except clas_bank_balance as e:\n",
    "    print(e)"
   ]
  },
  {
   "cell_type": "code",
   "execution_count": 21,
   "id": "d5413d69-a06e-44c4-8055-dc9675fe1ab9",
   "metadata": {},
   "outputs": [
    {
     "name": "stdin",
     "output_type": "stream",
     "text": [
      "My current balance is  200\n"
     ]
    },
    {
     "name": "stdout",
     "output_type": "stream",
     "text": [
      "Please withdraw at least 500\n"
     ]
    }
   ],
   "source": [
    "try:\n",
    "    bank_balance = int(input(\"My current balance is \"))\n",
    "    fun_bankbalance(bank_balance)\n",
    "except clas_bank_balance as e:\n",
    "    print(e)"
   ]
  },
  {
   "cell_type": "code",
   "execution_count": 22,
   "id": "d468e0a0-6c2c-4e8e-9bb5-7bad625446d8",
   "metadata": {},
   "outputs": [
    {
     "name": "stdin",
     "output_type": "stream",
     "text": [
      "My current balance is  2000\n"
     ]
    },
    {
     "name": "stdout",
     "output_type": "stream",
     "text": [
      "you have valid balance\n"
     ]
    }
   ],
   "source": [
    "try:\n",
    "    bank_balance = int(input(\"My current balance is \"))\n",
    "    fun_bankbalance(bank_balance)\n",
    "except clas_bank_balance as e:\n",
    "    print(e)"
   ]
  },
  {
   "cell_type": "markdown",
   "id": "10bcce3d-2c50-4608-af45-a38cf8f461b4",
   "metadata": {},
   "source": [
    "Q6> Create a custom exception class. use this class to handle an exception"
   ]
  },
  {
   "cell_type": "code",
   "execution_count": 27,
   "id": "49df362b-9a97-48a2-a23c-5cd7749b3493",
   "metadata": {},
   "outputs": [
    {
     "name": "stdin",
     "output_type": "stream",
     "text": [
      "enter your age is -1\n"
     ]
    }
   ],
   "source": [
    "age = int(input(\"enter your age is\"))"
   ]
  },
  {
   "cell_type": "code",
   "execution_count": 28,
   "id": "d16fda4b-2855-49ab-84e2-2b64f25d9567",
   "metadata": {},
   "outputs": [],
   "source": [
    "class cls_age(Exception):\n",
    "    \n",
    "    def __init__(self, msg):\n",
    "        self.msg = msg"
   ]
  },
  {
   "cell_type": "code",
   "execution_count": 30,
   "id": "9b4e9ceb-c117-458f-8ee2-10b38f61c2bb",
   "metadata": {},
   "outputs": [],
   "source": [
    "def fun_age(age):\n",
    "    if age<21:\n",
    "        raise cls_age(\"you are not eligible for loan\")\n",
    "    elif age>21:\n",
    "        raise cls_age(\"you are now eligible for loan\")\n",
    "    "
   ]
  },
  {
   "cell_type": "code",
   "execution_count": 31,
   "id": "5710adc3-d4d7-499a-8104-3b24f353dba7",
   "metadata": {},
   "outputs": [
    {
     "name": "stdin",
     "output_type": "stream",
     "text": [
      "enter your age is 18\n"
     ]
    },
    {
     "name": "stdout",
     "output_type": "stream",
     "text": [
      "you are not eligible for loan\n"
     ]
    }
   ],
   "source": [
    "try:\n",
    "    age = int(input(\"enter your age is\"))\n",
    "    fun_age(age)\n",
    "except cls_age as e:\n",
    "    print(e)"
   ]
  },
  {
   "cell_type": "code",
   "execution_count": 32,
   "id": "39cf0eb0-8728-4fbe-bdfd-4f373b1f43af",
   "metadata": {},
   "outputs": [
    {
     "name": "stdin",
     "output_type": "stream",
     "text": [
      "enter your age is 22\n"
     ]
    },
    {
     "name": "stdout",
     "output_type": "stream",
     "text": [
      "you are now eligible for loan\n"
     ]
    }
   ],
   "source": [
    "try:\n",
    "    age = int(input(\"enter your age is\"))\n",
    "    fun_age(age)\n",
    "except cls_age as e:\n",
    "    print(e)"
   ]
  },
  {
   "cell_type": "code",
   "execution_count": null,
   "id": "6308c819-af10-4d01-9483-d7db421ae448",
   "metadata": {},
   "outputs": [],
   "source": []
  }
 ],
 "metadata": {
  "kernelspec": {
   "display_name": "Python 3 (ipykernel)",
   "language": "python",
   "name": "python3"
  },
  "language_info": {
   "codemirror_mode": {
    "name": "ipython",
    "version": 3
   },
   "file_extension": ".py",
   "mimetype": "text/x-python",
   "name": "python",
   "nbconvert_exporter": "python",
   "pygments_lexer": "ipython3",
   "version": "3.10.8"
  }
 },
 "nbformat": 4,
 "nbformat_minor": 5
}
