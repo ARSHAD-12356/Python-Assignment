{
 "cells": [
  {
   "cell_type": "code",
   "execution_count": 1,
   "id": "8aadd884-6c25-471c-ad3d-524a91019edd",
   "metadata": {},
   "outputs": [],
   "source": [
    "# Q1. How do you comment code in Python? What are the different types of comments?"
   ]
  },
  {
   "cell_type": "code",
   "execution_count": 2,
   "id": "62092776-523c-46c7-9a56-b91b22c1a571",
   "metadata": {},
   "outputs": [],
   "source": [
    "#Ans 1 >\n",
    "# Comments are used to write something which the programmer does not want to execute.\n",
    "# Comments can be used to mark the author's name, date, etc.\n",
    "# *we can code comment in python by using single slash or double slash (/,//)\n",
    "# *it is easy to use when applying this keyboard shortcut CTRL+/\n",
    "# *There are two types of comment\n",
    "# 1st> single line comment \n",
    "# 2nd> multiple line comment\n",
    "# single line comment :--\n",
    "#            when a comment of a single line then this is known as single line comment\n",
    "# and it is applied with single slash or double slash symbol\n",
    "# multiple line comment :--\n",
    "#           when a comment of a multiple line then this is known as multiple line commnet\n",
    "# and it is applied by using select all the comment and press CTRL + /    \n",
    "    "
   ]
  },
  {
   "cell_type": "code",
   "execution_count": 3,
   "id": "06401dfb-94fa-482b-83b8-b2652b66d2bd",
   "metadata": {},
   "outputs": [],
   "source": [
    "# Q2. What are variables in Python? How do you declare and assign values to variables?"
   ]
  },
  {
   "cell_type": "code",
   "execution_count": 4,
   "id": "dea6360b-0eea-4388-80c4-1a1ecccb2181",
   "metadata": {},
   "outputs": [],
   "source": [
    "# A variable is the name given to a memory location in a program. A variable is like a container to store a data\n",
    "# Rules for defining a variable name :--\n",
    "# A variable name can contain alphabets, digits and uderscores.\n",
    "# A variable name can only start with an alphabet or underscores.\n",
    "# A variable name can't start with any  digits.\n",
    "# No while space is allowed to be used inside a variable name."
   ]
  },
  {
   "cell_type": "code",
   "execution_count": 5,
   "id": "5edb6933-c093-43f3-8e4b-999b489b46ab",
   "metadata": {},
   "outputs": [],
   "source": [
    "# for example :- \n",
    "a = 48 \n",
    "b = 45\n",
    "c = a + b"
   ]
  },
  {
   "cell_type": "code",
   "execution_count": 6,
   "id": "ce58a814-ec60-41c2-8367-c12506f22a09",
   "metadata": {},
   "outputs": [
    {
     "data": {
      "text/plain": [
       "93"
      ]
     },
     "execution_count": 6,
     "metadata": {},
     "output_type": "execute_result"
    }
   ],
   "source": [
    "c"
   ]
  },
  {
   "cell_type": "code",
   "execution_count": 7,
   "id": "e5797a21-30d8-4c78-929d-1d8fbba86ccb",
   "metadata": {},
   "outputs": [],
   "source": [
    "# Q3. How do you convert one data type to another in Python?"
   ]
  },
  {
   "cell_type": "code",
   "execution_count": 14,
   "id": "eb9f64a7-9c45-47e0-ad43-cfaf1b67230e",
   "metadata": {},
   "outputs": [],
   "source": [
    "a = {1,2,3,4,5,6}"
   ]
  },
  {
   "cell_type": "code",
   "execution_count": 15,
   "id": "101d060b-ef4f-4854-80ab-7c06f700944e",
   "metadata": {},
   "outputs": [
    {
     "data": {
      "text/plain": [
       "set"
      ]
     },
     "execution_count": 15,
     "metadata": {},
     "output_type": "execute_result"
    }
   ],
   "source": [
    "type(a)"
   ]
  },
  {
   "cell_type": "code",
   "execution_count": 16,
   "id": "d28a1660-c49b-46eb-9bae-74047bc2a74a",
   "metadata": {},
   "outputs": [
    {
     "data": {
      "text/plain": [
       "[1, 2, 3, 4, 5, 6]"
      ]
     },
     "execution_count": 16,
     "metadata": {},
     "output_type": "execute_result"
    }
   ],
   "source": [
    "list(a)"
   ]
  },
  {
   "cell_type": "code",
   "execution_count": 18,
   "id": "6e045c75-b7ad-4eb7-845f-1cc228e0a92e",
   "metadata": {},
   "outputs": [
    {
     "data": {
      "text/plain": [
       "list"
      ]
     },
     "execution_count": 18,
     "metadata": {},
     "output_type": "execute_result"
    }
   ],
   "source": [
    "type(list(a))"
   ]
  },
  {
   "cell_type": "code",
   "execution_count": 19,
   "id": "cbce2b45-ad18-4ec6-b934-04268c043526",
   "metadata": {},
   "outputs": [],
   "source": [
    "# Q4. How do you write and execute a Python script from the command line?"
   ]
  },
  {
   "cell_type": "code",
   "execution_count": 21,
   "id": "a1c01a0d-9654-40c5-9172-1aa6a707e054",
   "metadata": {},
   "outputs": [],
   "source": [
    "# we can write and execute a python script from the command line by using single code or double code and the data inside a variable and execute it by using run button or CTRL + Enter\n",
    "# for example :--\n",
    "a = \"pwskills\""
   ]
  },
  {
   "cell_type": "code",
   "execution_count": 22,
   "id": "9ec7a5df-b6fb-4392-b886-bd4037edea84",
   "metadata": {},
   "outputs": [
    {
     "data": {
      "text/plain": [
       "'pwskills'"
      ]
     },
     "execution_count": 22,
     "metadata": {},
     "output_type": "execute_result"
    }
   ],
   "source": [
    "a"
   ]
  },
  {
   "cell_type": "code",
   "execution_count": 23,
   "id": "5ddcd203-1bd5-4cd3-8eed-47ffe56de480",
   "metadata": {},
   "outputs": [],
   "source": [
    "# Q5. Given a list my_list = [1, 2, 3, 4, 5], write the code to slice the list and obtain the sub-list [2, 3]."
   ]
  },
  {
   "cell_type": "code",
   "execution_count": 24,
   "id": "45403c9e-baf4-41ea-ab72-49b23002f8ff",
   "metadata": {},
   "outputs": [],
   "source": [
    "my_list=[1,2,3,4,5]"
   ]
  },
  {
   "cell_type": "code",
   "execution_count": 26,
   "id": "56d34120-a6d8-494e-bd70-cb4462e7f47a",
   "metadata": {},
   "outputs": [
    {
     "data": {
      "text/plain": [
       "[2, 3]"
      ]
     },
     "execution_count": 26,
     "metadata": {},
     "output_type": "execute_result"
    }
   ],
   "source": [
    "my_list[1:3]"
   ]
  },
  {
   "cell_type": "code",
   "execution_count": 27,
   "id": "0b0a8a63-8aa8-4da4-997f-97753f10b5b3",
   "metadata": {},
   "outputs": [],
   "source": [
    "# Q6. What is a complex number in mathematics, and how is it represented in Python?"
   ]
  },
  {
   "cell_type": "code",
   "execution_count": 28,
   "id": "31bd51f2-e048-4616-9e00-19369eac1db0",
   "metadata": {},
   "outputs": [],
   "source": [
    "# Complex numbers are the numbers that are expressed in the form of a+ib where, a,b are real numbers and 'i' is an imaginary number called “iota”.\n",
    "# The value of i = (√-1). For example, 2+3i is a complex number, where 2 is a real number (Re) and 3i is an imaginary number (Im).\n",
    "# it is represented in python such like :--\n",
    "# for example :--\n",
    "# 5+7j\n",
    "# here, 5 is a real number and 7j is a complex number"
   ]
  },
  {
   "cell_type": "code",
   "execution_count": 29,
   "id": "6a7878d6-91c3-46cb-9c67-71860522a175",
   "metadata": {},
   "outputs": [],
   "source": [
    "a=5+7j"
   ]
  },
  {
   "cell_type": "code",
   "execution_count": 30,
   "id": "7241166f-d5de-4a64-b98d-8cc7ff4fee12",
   "metadata": {},
   "outputs": [
    {
     "data": {
      "text/plain": [
       "complex"
      ]
     },
     "execution_count": 30,
     "metadata": {},
     "output_type": "execute_result"
    }
   ],
   "source": [
    "type(a)"
   ]
  },
  {
   "cell_type": "code",
   "execution_count": null,
   "id": "7080e3f2-cc53-4cf8-91cc-48cc3231d33c",
   "metadata": {},
   "outputs": [],
   "source": [
    "#Q7. What is the correct way to declare a variable named age and assign the value 25 to it?"
   ]
  },
  {
   "cell_type": "code",
   "execution_count": 1,
   "id": "147ae179-9037-4aa4-a026-e9327dcea029",
   "metadata": {},
   "outputs": [],
   "source": [
    "age=25"
   ]
  },
  {
   "cell_type": "code",
   "execution_count": 2,
   "id": "70fba6b2-8f15-4ff1-bb1e-28e0d4aad4d2",
   "metadata": {},
   "outputs": [
    {
     "data": {
      "text/plain": [
       "25"
      ]
     },
     "execution_count": 2,
     "metadata": {},
     "output_type": "execute_result"
    }
   ],
   "source": [
    "age"
   ]
  },
  {
   "cell_type": "code",
   "execution_count": 31,
   "id": "ae9d2bad-dcf9-4f0d-9d81-9abc8080efaa",
   "metadata": {},
   "outputs": [],
   "source": [
    "# Q8. Declare a variable named price and assign the value 9.99 to it. What data type does this variable belong to?"
   ]
  },
  {
   "cell_type": "code",
   "execution_count": 32,
   "id": "7ce8b301-6678-4699-b762-462f27597457",
   "metadata": {},
   "outputs": [],
   "source": [
    "price=9.99"
   ]
  },
  {
   "cell_type": "code",
   "execution_count": 33,
   "id": "1a541109-ac48-442d-a495-c05d70cd0e53",
   "metadata": {},
   "outputs": [
    {
     "data": {
      "text/plain": [
       "float"
      ]
     },
     "execution_count": 33,
     "metadata": {},
     "output_type": "execute_result"
    }
   ],
   "source": [
    "type(price)"
   ]
  },
  {
   "cell_type": "code",
   "execution_count": 34,
   "id": "87a8af41-3b2e-4d46-aa3b-2f73914c8fbf",
   "metadata": {},
   "outputs": [],
   "source": [
    "# Q9. Create a variable named name and assign your full name to it as a string. How would you print the value of this variable?"
   ]
  },
  {
   "cell_type": "code",
   "execution_count": 35,
   "id": "e0789113-67d8-4dea-9b0d-6b82a4257e12",
   "metadata": {},
   "outputs": [],
   "source": [
    "name=\"Md Arshad Raza\""
   ]
  },
  {
   "cell_type": "code",
   "execution_count": 36,
   "id": "c6442f15-173e-4e20-8fa9-9a9e811c3bfe",
   "metadata": {},
   "outputs": [
    {
     "name": "stdout",
     "output_type": "stream",
     "text": [
      "Md Arshad Raza\n"
     ]
    }
   ],
   "source": [
    "print(name)"
   ]
  },
  {
   "cell_type": "code",
   "execution_count": 37,
   "id": "7b3ad32c-e743-4130-862c-74ec9688b5ab",
   "metadata": {},
   "outputs": [],
   "source": [
    "# Q10. Given the string \"Hello, World!\", extract the substring \"World\"."
   ]
  },
  {
   "cell_type": "code",
   "execution_count": 38,
   "id": "2b387450-d294-4d22-919f-1ece42b145f8",
   "metadata": {},
   "outputs": [],
   "source": [
    "a1=\"Hello, World!\""
   ]
  },
  {
   "cell_type": "code",
   "execution_count": 47,
   "id": "a9a3d5c4-831f-4619-9b50-35babb12ce9e",
   "metadata": {},
   "outputs": [
    {
     "data": {
      "text/plain": [
       "'World'"
      ]
     },
     "execution_count": 47,
     "metadata": {},
     "output_type": "execute_result"
    }
   ],
   "source": [
    "a1[-6:-1:]"
   ]
  },
  {
   "cell_type": "code",
   "execution_count": null,
   "id": "068e37a4-458d-416a-81e2-70832ecef65e",
   "metadata": {},
   "outputs": [],
   "source": [
    "# Q11. Create a variable named \"is_student\" and assign it a boolean value indicating whether you are currently a student or not."
   ]
  },
  {
   "cell_type": "code",
   "execution_count": 11,
   "id": "a127ee8b-ff1d-4a71-93cb-8cffec0b06b7",
   "metadata": {},
   "outputs": [],
   "source": [
    "is_student=True"
   ]
  },
  {
   "cell_type": "code",
   "execution_count": 12,
   "id": "7aba59d7-9f47-422b-b084-327d419bfdb8",
   "metadata": {},
   "outputs": [
    {
     "data": {
      "text/plain": [
       "bool"
      ]
     },
     "execution_count": 12,
     "metadata": {},
     "output_type": "execute_result"
    }
   ],
   "source": [
    "type(is_student)"
   ]
  },
  {
   "cell_type": "code",
   "execution_count": 13,
   "id": "796b65ec-5a45-42ea-a6d8-d58faf5c52aa",
   "metadata": {},
   "outputs": [],
   "source": [
    "            # Assignmment 2nd Complete"
   ]
  }
 ],
 "metadata": {
  "kernelspec": {
   "display_name": "Python 3 (ipykernel)",
   "language": "python",
   "name": "python3"
  },
  "language_info": {
   "codemirror_mode": {
    "name": "ipython",
    "version": 3
   },
   "file_extension": ".py",
   "mimetype": "text/x-python",
   "name": "python",
   "nbconvert_exporter": "python",
   "pygments_lexer": "ipython3",
   "version": "3.10.8"
  }
 },
 "nbformat": 4,
 "nbformat_minor": 5
}
